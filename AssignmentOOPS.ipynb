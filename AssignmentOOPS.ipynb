{
 "cells": [
  {
   "cell_type": "code",
   "execution_count": 2,
   "metadata": {},
   "outputs": [],
   "source": [
    "#Q1 What are the five key concepts of Object-Oriented Programming (OOP)?\n",
    "\n",
    "# INHERITANCE,ABSTRACTION,POLYMORPHISM,ENCAPSULATION and COMPOSITION."
   ]
  },
  {
   "cell_type": "code",
   "execution_count": 3,
   "metadata": {},
   "outputs": [
    {
     "name": "stdout",
     "output_type": "stream",
     "text": [
      "Car Information: 2022 Toyota Camry\n"
     ]
    }
   ],
   "source": [
    "#Q2 Write a Python class for a `Car` with attributes for `make`, `model`, and `year`. Include a method to display the car's information.\n",
    "\n",
    "class Car:\n",
    "    def __init__(self, make, model, year):\n",
    "        self.make = make\n",
    "        self.model = model\n",
    "        self.year = year\n",
    "\n",
    "    def display_info(self):\n",
    "        print(f\"Car Information: {self.year} {self.make} {self.model}\")\n",
    "\n",
    "my_car = Car(\"Toyota\", \"Camry\", 2022)\n",
    "my_car.display_info()\n"
   ]
  },
  {
   "cell_type": "code",
   "execution_count": 4,
   "metadata": {},
   "outputs": [],
   "source": [
    "#Q3 Explain the difference between instance methods and class methods. Provide an example of each.\n",
    "\n",
    "#INSTANCE methods:\n",
    "#Instance methods are the most common type of method in Python.\n",
    "#They are defined within a class and operate on individual instances (objects) of that class.\n",
    "#They have access to instance attributes and can modify the state of the object.\n",
    "#They are defined with the first parameter self, which refers to the particular instance calling the method.\n",
    "\n",
    "#CLASS methods:\n",
    "#Class methods operate on the class itself, not on instances of the class.\n",
    "#They are defined using the @classmethod decorator and take cls as the first parameter, which represents the class itself, not any particular instance.\n",
    "#They are typically used for factory methods or operations that apply to the class as a whole, rather than individual objects.\n"
   ]
  },
  {
   "cell_type": "code",
   "execution_count": 5,
   "metadata": {},
   "outputs": [
    {
     "name": "stdout",
     "output_type": "stream",
     "text": [
      "5\n",
      "15\n",
      "30\n"
     ]
    }
   ],
   "source": [
    "#Q4 How does Python implement method overloading? Give an example.\n",
    "\n",
    "class Calculator:\n",
    "    def add(self, a, b=0, c=0):\n",
    "        return a + b + c\n",
    "\n",
    "calc = Calculator()\n",
    "print(calc.add(5))        # Output: 5 (single argument)\n",
    "print(calc.add(5, 10))    # Output: 15 (two arguments)\n",
    "print(calc.add(5, 10, 15)) # Output: 30 (three arguments)\n"
   ]
  },
  {
   "cell_type": "code",
   "execution_count": 6,
   "metadata": {},
   "outputs": [
    {
     "name": "stdout",
     "output_type": "stream",
     "text": [
      "5\n",
      "15\n",
      "30\n"
     ]
    }
   ],
   "source": [
    "class Calculator:\n",
    "    def add(self, *args):\n",
    "        return sum(args)\n",
    "\n",
    "calc = Calculator()\n",
    "print(calc.add(5))            # Output: 5\n",
    "print(calc.add(5, 10))        # Output: 15\n",
    "print(calc.add(5, 10, 15))    # Output: 30\n"
   ]
  },
  {
   "cell_type": "code",
   "execution_count": 7,
   "metadata": {},
   "outputs": [],
   "source": [
    "#Q5 What are the three types of access modifiers in Python? How are they denoted?\n",
    "\n",
    "#In Python, access modifiers control how accessible class attributes and methods are. Public members (denoted without any leading underscores) are accessible from anywhere, both inside and outside the class. Protected members (denoted with a single leading underscore, like `_attribute`) signal that they are intended for use within the class and its subclasses, though they are still accessible from outside if needed. Private members (denoted with a double leading underscore, like `__attribute`) are intended only for internal use within the class, and Python enforces this by \"name mangling\" to prevent accidental access from outside. These naming conventions help manage visibility and intent, even though Python doesn’t enforce strict access control.\n",
    "\n"
   ]
  },
  {
   "cell_type": "code",
   "execution_count": 8,
   "metadata": {},
   "outputs": [
    {
     "name": "stdout",
     "output_type": "stream",
     "text": [
      "I can fly\n",
      "I can swim\n"
     ]
    }
   ],
   "source": [
    "#Q6  Describe the five types of inheritance in Python. Provide a simple example of multiple inheritance.\n",
    "\n",
    "#single inheritance\n",
    "class Animal:\n",
    "    pass\n",
    "\n",
    "class Dog(Animal):\n",
    "    pass\n",
    "\n",
    "#multiple inheritance\n",
    "class Flyer:\n",
    "    pass\n",
    "\n",
    "class Swimmer:\n",
    "    pass\n",
    "\n",
    "class Duck(Flyer, Swimmer):\n",
    "    pass\n",
    "\n",
    "#multilevel inheritance\n",
    "class Animal:\n",
    "    pass\n",
    "\n",
    "class Mammal(Animal):\n",
    "    pass\n",
    "\n",
    "class Dog(Mammal):\n",
    "    pass\n",
    "\n",
    "#hierarchial inheritance\n",
    "class Animal:\n",
    "    pass\n",
    "\n",
    "class Dog(Animal):\n",
    "    pass\n",
    "\n",
    "class Cat(Animal):\n",
    "    pass\n",
    "\n",
    "#hybrid inheritance\n",
    "\n",
    "#multiple inheritance example:\n",
    "class Flyer:\n",
    "    def fly(self):\n",
    "        return \"I can fly\"\n",
    "\n",
    "class Swimmer:\n",
    "    def swim(self):\n",
    "        return \"I can swim\"\n",
    "\n",
    "class Duck(Flyer, Swimmer):\n",
    "    pass\n",
    "\n",
    "duck = Duck()\n",
    "print(duck.fly())   # Output: I can fly\n",
    "print(duck.swim())  # Output: I can swim\n"
   ]
  },
  {
   "cell_type": "code",
   "execution_count": 9,
   "metadata": {},
   "outputs": [
    {
     "name": "stdout",
     "output_type": "stream",
     "text": [
      "(<class '__main__.C'>, <class '__main__.B'>, <class '__main__.A'>, <class 'object'>)\n"
     ]
    }
   ],
   "source": [
    "#Q7 What is the Method Resolution Order (MRO) in Python? How can you retrieve it programmatically?\n",
    "\n",
    "\n",
    "#The Method Resolution Order (MRO) in Python is the order in which Python looks for a method in a hierarchy of classes during inheritance. It defines the sequence in which classes are checked when an attribute or method is accessed on an instance, especially important in multiple inheritance to avoid ambiguity. Python’s MRO follows the C3 linearization algorithm, which ensures a consistent order that respects both the depth-first search and the order of class definitions.\n",
    "class A: pass\n",
    "class B(A): pass\n",
    "class C(B): pass\n",
    "\n",
    "print(C.__mro__)\n"
   ]
  },
  {
   "cell_type": "code",
   "execution_count": 10,
   "metadata": {},
   "outputs": [
    {
     "name": "stdout",
     "output_type": "stream",
     "text": [
      "[<class '__main__.C'>, <class '__main__.B'>, <class '__main__.A'>, <class 'object'>]\n"
     ]
    }
   ],
   "source": [
    "print(C.mro())\n"
   ]
  },
  {
   "cell_type": "code",
   "execution_count": 11,
   "metadata": {},
   "outputs": [
    {
     "name": "stdout",
     "output_type": "stream",
     "text": [
      "Circle Area: 78.53981633974483\n",
      "Rectangle Area: 24\n"
     ]
    }
   ],
   "source": [
    "#Q8 Create an abstract base class `Shape` with an abstract method `area()`. Then create two subclasses `Circle` and `Rectangle` that implement the `area()` method.\n",
    "\n",
    "from abc import ABC, abstractmethod\n",
    "import math\n",
    "\n",
    "class Shape(ABC):\n",
    "    @abstractmethod\n",
    "    def area(self):\n",
    "        pass\n",
    "\n",
    "class Circle(Shape):\n",
    "    def __init__(self, radius):\n",
    "        self.radius = radius\n",
    "\n",
    "    def area(self):\n",
    "        return math.pi * self.radius ** 2\n",
    "\n",
    "class Rectangle(Shape):\n",
    "    def __init__(self, width, height):\n",
    "        self.width = width\n",
    "        self.height = height\n",
    "\n",
    "    def area(self):\n",
    "        return self.width * self.height\n",
    "\n",
    "# Example usage:\n",
    "circle = Circle(5)\n",
    "rectangle = Rectangle(4, 6)\n",
    "\n",
    "print(f\"Circle Area: {circle.area()}\")       # Output: Circle Area: 78.54 (approx)\n",
    "print(f\"Rectangle Area: {rectangle.area()}\") # Output: Rectangle Area: 24\n"
   ]
  },
  {
   "cell_type": "code",
   "execution_count": 12,
   "metadata": {},
   "outputs": [
    {
     "name": "stdout",
     "output_type": "stream",
     "text": [
      "The area of the shape is: 78.53981633974483\n",
      "The area of the shape is: 24\n"
     ]
    }
   ],
   "source": [
    "#Q9 Demonstrate polymorphism by creating a function that can work with different shape objects to calculate and print their areas.\n",
    "\n",
    "\n",
    "from abc import ABC, abstractmethod\n",
    "import math\n",
    "\n",
    "class Shape(ABC):\n",
    "    @abstractmethod\n",
    "    def area(self):\n",
    "        pass\n",
    "\n",
    "class Circle(Shape):\n",
    "    def __init__(self, radius):\n",
    "        self.radius = radius\n",
    "\n",
    "    def area(self):\n",
    "        return math.pi * self.radius ** 2\n",
    "\n",
    "class Rectangle(Shape):\n",
    "    def __init__(self, width, height):\n",
    "        self.width = width\n",
    "        self.height = height\n",
    "\n",
    "    def area(self):\n",
    "        return self.width * self.height\n",
    "\n",
    "def print_area(shape):\n",
    "    print(f\"The area of the shape is: {shape.area()}\")\n",
    "\n",
    "# Example usage:\n",
    "circle = Circle(5)\n",
    "rectangle = Rectangle(4, 6)\n",
    "\n",
    "print_area(circle)       # Output: The area of the shape is: 78.54 (approx)\n",
    "print_area(rectangle)    # Output: The area of the shape is: 24\n"
   ]
  },
  {
   "cell_type": "code",
   "execution_count": 13,
   "metadata": {},
   "outputs": [
    {
     "name": "stdout",
     "output_type": "stream",
     "text": [
      "Deposited $500. New balance is $1500.\n",
      "Withdrew $200. New balance is $1300.\n",
      "Current balance: $1300\n"
     ]
    }
   ],
   "source": [
    "#Q10 Implement encapsulation in a `BankAccount` class with private attributes for `balance` and `account_number`. Include methods for deposit, withdrawal, and balance inquiry.\n",
    "\n",
    "\n",
    "class BankAccount:\n",
    "    def __init__(self, account_number, initial_balance=0):\n",
    "        # Private attributes\n",
    "        self.__account_number = account_number\n",
    "        self.__balance = initial_balance\n",
    "\n",
    "    # Method for deposit\n",
    "    def deposit(self, amount):\n",
    "        if amount > 0:\n",
    "            self.__balance += amount\n",
    "            print(f\"Deposited ${amount}. New balance is ${self.__balance}.\")\n",
    "        else:\n",
    "            print(\"Deposit amount must be positive.\")\n",
    "\n",
    "    # Method for withdrawal\n",
    "    def withdraw(self, amount):\n",
    "        if amount > 0 and amount <= self.__balance:\n",
    "            self.__balance -= amount\n",
    "            print(f\"Withdrew ${amount}. New balance is ${self.__balance}.\")\n",
    "        elif amount > self.__balance:\n",
    "            print(\"Insufficient funds.\")\n",
    "        else:\n",
    "            print(\"Withdrawal amount must be positive.\")\n",
    "\n",
    "    # Method for balance inquiry\n",
    "    def get_balance(self):\n",
    "        return self.__balance\n",
    "\n",
    "    # Method for account number inquiry (just for demonstration, usually not recommended for encapsulation)\n",
    "    def get_account_number(self):\n",
    "        return self.__account_number\n",
    "\n",
    "# Example usage:\n",
    "account = BankAccount(\"123456789\", 1000)\n",
    "\n",
    "# Deposit money\n",
    "account.deposit(500)\n",
    "\n",
    "# Withdraw money\n",
    "account.withdraw(200)\n",
    "\n",
    "# Check balance\n",
    "print(f\"Current balance: ${account.get_balance()}\")  # Output: Current balance: $1300\n"
   ]
  },
  {
   "cell_type": "code",
   "execution_count": 14,
   "metadata": {},
   "outputs": [
    {
     "name": "stdout",
     "output_type": "stream",
     "text": [
      "'1984' by George Orwell\n",
      "Combination of books: 1984 and Brave New World\n"
     ]
    }
   ],
   "source": [
    "#Q11 Write a class that overrides the `__str__` and `__add__` magic methods. What will these methods allow you to do?\n",
    "\n",
    "class Book:\n",
    "    def __init__(self, title, author):\n",
    "        self.title = title\n",
    "        self.author = author\n",
    "\n",
    "    # Override __str__ to define how the object is represented as a string\n",
    "    def __str__(self):\n",
    "        return f\"'{self.title}' by {self.author}\"\n",
    "\n",
    "    # Override __add__ to define how two Book objects are added\n",
    "    def __add__(self, other):\n",
    "        if isinstance(other, Book):\n",
    "            return f\"Combination of books: {self.title} and {other.title}\"\n",
    "        return NotImplemented\n",
    "\n",
    "# Example usage\n",
    "book1 = Book(\"1984\", \"George Orwell\")\n",
    "book2 = Book(\"Brave New World\", \"Aldous Huxley\")\n",
    "\n",
    "# Using __str__ when printing or converting to a string\n",
    "print(book1)  # Output: '1984' by George Orwell\n",
    "\n",
    "# Using __add__ to add two book objects\n",
    "combined = book1 + book2  # Output: Combination of books: 1984 and Brave New World\n",
    "print(combined)\n",
    "\n"
   ]
  },
  {
   "cell_type": "code",
   "execution_count": 15,
   "metadata": {},
   "outputs": [
    {
     "name": "stdout",
     "output_type": "stream",
     "text": [
      "Execution time of slow_function: 2.0021 seconds\n",
      "Execution time of quick_function: 0.5020 seconds\n"
     ]
    }
   ],
   "source": [
    "#Q12 Create a decorator that measures and prints the execution time of a function.\n",
    "\n",
    "import time\n",
    "\n",
    "# Decorator to measure execution time\n",
    "def measure_time(func):\n",
    "    def wrapper(*args, **kwargs):\n",
    "        start_time = time.time()  # Record the start time\n",
    "        result = func(*args, **kwargs)  # Call the original function\n",
    "        end_time = time.time()  # Record the end time\n",
    "        execution_time = end_time - start_time  # Calculate the time taken\n",
    "        print(f\"Execution time of {func.__name__}: {execution_time:.4f} seconds\")\n",
    "        return result\n",
    "    return wrapper\n",
    "\n",
    "# Example function using the decorator\n",
    "@measure_time\n",
    "def slow_function():\n",
    "    time.sleep(2)  # Simulate a delay\n",
    "\n",
    "@measure_time\n",
    "def quick_function():\n",
    "    time.sleep(0.5)  # Simulate a shorter delay\n",
    "\n",
    "# Example usage\n",
    "slow_function()  # Prints execution time of slow_function\n",
    "quick_function()  # Prints execution time of quick_function\n"
   ]
  },
  {
   "cell_type": "code",
   "execution_count": 16,
   "metadata": {},
   "outputs": [
    {
     "name": "stdout",
     "output_type": "stream",
     "text": [
      "Hello from B\n"
     ]
    }
   ],
   "source": [
    "#Q13 Explain the concept of the Diamond Problem in multiple inheritance. How does Python resolve it?\n",
    "\n",
    "class A:\n",
    "    def greet(self):\n",
    "        print(\"Hello from A\")\n",
    "\n",
    "class B(A):\n",
    "    def greet(self):\n",
    "        print(\"Hello from B\")\n",
    "\n",
    "class C(A):\n",
    "    def greet(self):\n",
    "        print(\"Hello from C\")\n",
    "\n",
    "class D(B, C):  # D inherits from B and C\n",
    "    pass\n",
    "\n",
    "# Create an instance of D\n",
    "d = D()\n",
    "d.greet()  # Which greet method will be called?\n"
   ]
  },
  {
   "cell_type": "code",
   "execution_count": 17,
   "metadata": {},
   "outputs": [
    {
     "name": "stdout",
     "output_type": "stream",
     "text": [
      "[<class '__main__.D'>, <class '__main__.B'>, <class '__main__.C'>, <class '__main__.A'>, <class 'object'>]\n"
     ]
    }
   ],
   "source": [
    "print(D.mro())\n"
   ]
  },
  {
   "cell_type": "code",
   "execution_count": 18,
   "metadata": {},
   "outputs": [
    {
     "name": "stdout",
     "output_type": "stream",
     "text": [
      "3\n"
     ]
    }
   ],
   "source": [
    "#Q14 Write a class method that keeps track of the number of instances created from a class.\n",
    "\n",
    "class MyClass:\n",
    "    instance_count = 0  # Class variable to keep track of the number of instances\n",
    "\n",
    "    def __init__(self):\n",
    "        # Increment the instance count every time a new instance is created\n",
    "        MyClass.instance_count += 1\n",
    "\n",
    "    @classmethod\n",
    "    def get_instance_count(cls):\n",
    "        # Class method to return the current number of instances\n",
    "        return cls.instance_count\n",
    "\n",
    "# Example usage:\n",
    "obj1 = MyClass()\n",
    "obj2 = MyClass()\n",
    "obj3 = MyClass()\n",
    "\n",
    "# Get the count of instances created\n",
    "print(MyClass.get_instance_count())  # Output: 3\n"
   ]
  },
  {
   "cell_type": "code",
   "execution_count": 19,
   "metadata": {},
   "outputs": [
    {
     "name": "stdout",
     "output_type": "stream",
     "text": [
      "Is 2024 a leap year? True\n",
      "Is 2023 a leap year? False\n"
     ]
    }
   ],
   "source": [
    "#Q15  Implement a static method in a class that checks if a given year is a leap year.\n",
    "\n",
    "class Year:\n",
    "    @staticmethod\n",
    "    def is_leap_year(year):\n",
    "        # A leap year is divisible by 4 but not 100, unless it is divisible by 400\n",
    "        if (year % 4 == 0 and year % 100 != 0) or (year % 400 == 0):\n",
    "            return True\n",
    "        return False\n",
    "\n",
    "# Example usage:\n",
    "year = 2024\n",
    "print(f\"Is {year} a leap year? {Year.is_leap_year(year)}\")  # Output: Is 2024 a leap year? True\n",
    "\n",
    "year = 2023\n",
    "print(f\"Is {year} a leap year? {Year.is_leap_year(year)}\")  # Output: Is 2023 a leap year? False\n"
   ]
  },
  {
   "cell_type": "code",
   "execution_count": null,
   "metadata": {},
   "outputs": [],
   "source": []
  }
 ],
 "metadata": {
  "kernelspec": {
   "display_name": "Python 3",
   "language": "python",
   "name": "python3"
  },
  "language_info": {
   "codemirror_mode": {
    "name": "ipython",
    "version": 3
   },
   "file_extension": ".py",
   "mimetype": "text/x-python",
   "name": "python",
   "nbconvert_exporter": "python",
   "pygments_lexer": "ipython3",
   "version": "3.8.5"
  }
 },
 "nbformat": 4,
 "nbformat_minor": 4
}
