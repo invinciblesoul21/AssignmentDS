{
  "nbformat": 4,
  "nbformat_minor": 0,
  "metadata": {
    "colab": {
      "provenance": []
    },
    "kernelspec": {
      "name": "python3",
      "display_name": "Python 3"
    },
    "language_info": {
      "name": "python"
    }
  },
  "cells": [
    {
      "cell_type": "code",
      "execution_count": 2,
      "metadata": {
        "id": "HImRNDXgUEe5"
      },
      "outputs": [],
      "source": [
        "import pandas as pd\n",
        "import numpy as np\n",
        "import matplotlib.pyplot as plt\n",
        "import seaborn as sns\n",
        "import random\n",
        "import statistics"
      ]
    },
    {
      "cell_type": "code",
      "source": [
        "#Q1 Generate a list of 100 integers containing values between 90 to 130 and store it in the variable `int_list`. After generating the list, find the following:\n",
        "\n",
        "int_list=np.random.randint(90,130,100)\n",
        "int_list"
      ],
      "metadata": {
        "colab": {
          "base_uri": "https://localhost:8080/"
        },
        "id": "4bUdSFh7VbSm",
        "outputId": "213ff197-7d17-4807-cdd5-565c1437d93a"
      },
      "execution_count": 7,
      "outputs": [
        {
          "output_type": "execute_result",
          "data": {
            "text/plain": [
              "array([109,  95, 123, 118, 111, 115, 100,  95,  90, 100, 129, 108, 116,\n",
              "       110, 104, 126, 105, 105,  90,  96, 123, 122, 125, 123, 106, 106,\n",
              "       113, 103, 125, 106, 128,  92,  99, 126, 116,  93,  98, 108, 108,\n",
              "       115, 100, 124, 107, 108,  99, 122, 117, 100, 100, 113, 119, 127,\n",
              "        91, 127, 123,  98,  92, 106, 111, 116,  94, 123, 117, 125, 107,\n",
              "       103, 111, 117,  95, 107,  94, 115, 111, 114, 116, 102,  99, 105,\n",
              "       124, 116, 105, 109,  98,  97, 123, 127, 128, 105, 125, 114, 118,\n",
              "       115,  95,  90, 121, 119, 116, 119,  98, 119])"
            ]
          },
          "metadata": {},
          "execution_count": 7
        }
      ]
    },
    {
      "cell_type": "code",
      "source": [
        "'''(i) Write a Python function to calculate the mean of a given list of numbers.\n",
        "\n",
        "Create a function to find the median of a list of numbers.'''\n",
        "\n",
        "m1=np.mean(int_list)\n",
        "med1=np.sort(int_list)\n",
        "med_1=np.median(int_list)"
      ],
      "metadata": {
        "id": "FEgtQ8cAVxac"
      },
      "execution_count": 8,
      "outputs": []
    },
    {
      "cell_type": "code",
      "source": [
        "print(m1)\n",
        "print(med1)\n",
        "print(med_1)\n"
      ],
      "metadata": {
        "colab": {
          "base_uri": "https://localhost:8080/"
        },
        "id": "pMFE012QWQyi",
        "outputId": "9f429389-f0f8-4dbd-fbee-425b09a98364"
      },
      "execution_count": 9,
      "outputs": [
        {
          "output_type": "stream",
          "name": "stdout",
          "text": [
            "110.16\n",
            "[ 90  90  90  91  92  92  93  94  94  95  95  95  95  96  97  98  98  98\n",
            "  98  99  99  99 100 100 100 100 100 102 103 103 104 105 105 105 105 105\n",
            " 106 106 106 106 107 107 107 108 108 108 108 109 109 110 111 111 111 111\n",
            " 113 113 114 114 115 115 115 115 116 116 116 116 116 116 117 117 117 118\n",
            " 118 119 119 119 119 121 122 122 123 123 123 123 123 123 124 124 125 125\n",
            " 125 125 126 126 127 127 127 128 128 129]\n",
            "110.5\n"
          ]
        }
      ]
    },
    {
      "cell_type": "code",
      "source": [
        "''' (ii) Develop a program to compute the mode of a list of integers.'''\n",
        "\n",
        "mod=statistics.mode(int_list)\n",
        "mod"
      ],
      "metadata": {
        "colab": {
          "base_uri": "https://localhost:8080/"
        },
        "id": "Uy6baWFxWoHM",
        "outputId": "a87d7a22-e1d7-4559-9c14-78cbc160d709"
      },
      "execution_count": 10,
      "outputs": [
        {
          "output_type": "execute_result",
          "data": {
            "text/plain": [
              "123"
            ]
          },
          "metadata": {},
          "execution_count": 10
        }
      ]
    },
    {
      "cell_type": "code",
      "source": [
        "'''  (iii) Implement a function to calculate the weighted mean of a list of values and their corresponding weights.'''\n",
        "\n",
        "wm=np.average(int_list)\n",
        "wm"
      ],
      "metadata": {
        "colab": {
          "base_uri": "https://localhost:8080/"
        },
        "id": "e9xBIP4oXMxl",
        "outputId": "b71edf6c-c6e0-4db3-d9e3-3805292f18fd"
      },
      "execution_count": 11,
      "outputs": [
        {
          "output_type": "execute_result",
          "data": {
            "text/plain": [
              "110.16"
            ]
          },
          "metadata": {},
          "execution_count": 11
        }
      ]
    },
    {
      "cell_type": "code",
      "source": [
        "''' (iv) Write a Python function to find the geometric mean of a list of positive numbers.'''\n",
        "gm=statistics.mean(int_list)\n",
        "gm"
      ],
      "metadata": {
        "colab": {
          "base_uri": "https://localhost:8080/"
        },
        "id": "jXxqg60xXzYp",
        "outputId": "db1ad3de-805f-4083-d27d-690ebddc45f9"
      },
      "execution_count": 12,
      "outputs": [
        {
          "output_type": "execute_result",
          "data": {
            "text/plain": [
              "110"
            ]
          },
          "metadata": {},
          "execution_count": 12
        }
      ]
    },
    {
      "cell_type": "code",
      "source": [
        "''' (v) Create a program to calculate the harmonic mean of a list of values.'''\n",
        "\n",
        "hm=statistics.harmonic_mean(int_list)\n",
        "hm"
      ],
      "metadata": {
        "colab": {
          "base_uri": "https://localhost:8080/"
        },
        "id": "b5o-QYD4Yhd4",
        "outputId": "98176bfe-eba9-45bd-ff1f-aa23f2e18e1c"
      },
      "execution_count": 13,
      "outputs": [
        {
          "output_type": "execute_result",
          "data": {
            "text/plain": [
              "109.03035605628673"
            ]
          },
          "metadata": {},
          "execution_count": 13
        }
      ]
    },
    {
      "cell_type": "code",
      "source": [
        "''' (vi) Build a function to determine the midrange of a list of numbers (average of the minimum and maximum).'''\n",
        "mr=(np.max(int_list)+np.min(int_list))/2\n",
        "mr"
      ],
      "metadata": {
        "colab": {
          "base_uri": "https://localhost:8080/"
        },
        "id": "RgCEl7GKYzMe",
        "outputId": "c1a48f84-384d-4987-dd54-d80f6923ef6a"
      },
      "execution_count": 14,
      "outputs": [
        {
          "output_type": "execute_result",
          "data": {
            "text/plain": [
              "109.5"
            ]
          },
          "metadata": {},
          "execution_count": 14
        }
      ]
    },
    {
      "cell_type": "code",
      "source": [
        "'''  (vii) Implement a Python program to find the trimmed mean of a list, excluding a certain percentage of\n",
        "outliers'''\n",
        "\n",
        "# We are trimming 10% of the data\n",
        "import scipy.stats as stats\n",
        "tm=stats.trim_mean(int_list, 0.1)\n",
        "tm"
      ],
      "metadata": {
        "colab": {
          "base_uri": "https://localhost:8080/"
        },
        "id": "EY9zfxj9ZLnf",
        "outputId": "1d11a591-89eb-47ec-f82d-cedde4ca99c3"
      },
      "execution_count": 18,
      "outputs": [
        {
          "output_type": "execute_result",
          "data": {
            "text/plain": [
              "110.3375"
            ]
          },
          "metadata": {},
          "execution_count": 18
        }
      ]
    },
    {
      "cell_type": "code",
      "source": [
        "#Q2  Generate a list of 500 integers containing values between 200 to 300 and store it in the variable `int_list2`. After generating the list, find the following:\n",
        "\n",
        "int_list2=np.random.randint(200,300,500)\n",
        "int_list2"
      ],
      "metadata": {
        "colab": {
          "base_uri": "https://localhost:8080/"
        },
        "id": "vJ48UNUxaXIV",
        "outputId": "a9eed528-ec3b-4b9c-efb8-c9b9272e90a4"
      },
      "execution_count": 19,
      "outputs": [
        {
          "output_type": "execute_result",
          "data": {
            "text/plain": [
              "array([245, 276, 232, 222, 275, 231, 277, 218, 287, 244, 286, 266, 210,\n",
              "       232, 209, 286, 215, 299, 246, 244, 279, 206, 233, 271, 236, 270,\n",
              "       213, 268, 237, 256, 219, 230, 201, 227, 254, 255, 283, 206, 219,\n",
              "       200, 299, 275, 244, 283, 218, 242, 251, 271, 210, 211, 253, 288,\n",
              "       226, 221, 238, 237, 297, 200, 299, 226, 207, 246, 282, 280, 226,\n",
              "       214, 247, 291, 237, 244, 230, 277, 220, 233, 203, 269, 233, 290,\n",
              "       223, 280, 222, 234, 254, 273, 221, 228, 242, 271, 213, 269, 235,\n",
              "       290, 235, 230, 260, 237, 289, 288, 216, 237, 209, 284, 209, 232,\n",
              "       275, 275, 207, 217, 280, 222, 264, 298, 231, 206, 204, 296, 200,\n",
              "       276, 262, 267, 277, 245, 204, 246, 221, 208, 263, 218, 293, 212,\n",
              "       224, 237, 270, 242, 295, 244, 255, 291, 231, 247, 240, 207, 226,\n",
              "       267, 211, 297, 227, 213, 277, 210, 246, 260, 215, 231, 256, 297,\n",
              "       272, 204, 205, 251, 210, 218, 243, 221, 296, 253, 232, 263, 279,\n",
              "       225, 236, 234, 276, 218, 270, 287, 227, 220, 260, 265, 266, 253,\n",
              "       230, 296, 287, 214, 228, 248, 218, 260, 222, 249, 239, 286, 284,\n",
              "       260, 230, 205, 244, 270, 267, 268, 208, 217, 221, 264, 228, 283,\n",
              "       291, 239, 227, 269, 210, 223, 256, 283, 220, 283, 277, 250, 204,\n",
              "       294, 209, 207, 297, 242, 281, 231, 235, 265, 257, 293, 294, 242,\n",
              "       216, 287, 277, 243, 264, 282, 291, 265, 245, 259, 224, 297, 269,\n",
              "       214, 200, 258, 289, 272, 206, 213, 253, 201, 258, 257, 243, 236,\n",
              "       223, 281, 227, 235, 216, 279, 221, 218, 253, 248, 280, 216, 277,\n",
              "       288, 258, 225, 264, 217, 207, 267, 264, 290, 210, 228, 207, 295,\n",
              "       262, 231, 285, 211, 224, 298, 268, 208, 209, 268, 254, 284, 269,\n",
              "       204, 298, 232, 282, 235, 203, 211, 262, 207, 277, 233, 252, 229,\n",
              "       222, 224, 290, 259, 299, 239, 206, 291, 286, 232, 217, 204, 241,\n",
              "       251, 256, 273, 227, 253, 290, 236, 225, 263, 225, 238, 270, 253,\n",
              "       209, 290, 243, 286, 248, 251, 297, 239, 280, 217, 294, 264, 200,\n",
              "       279, 227, 243, 206, 250, 283, 205, 202, 272, 261, 217, 297, 274,\n",
              "       236, 269, 209, 225, 228, 288, 228, 245, 202, 218, 277, 286, 215,\n",
              "       266, 230, 255, 230, 269, 252, 295, 282, 203, 203, 216, 238, 225,\n",
              "       203, 290, 274, 272, 250, 226, 250, 202, 292, 272, 247, 242, 261,\n",
              "       200, 220, 261, 274, 250, 220, 217, 282, 260, 272, 287, 204, 259,\n",
              "       281, 231, 243, 268, 209, 238, 243, 257, 260, 296, 288, 233, 285,\n",
              "       267, 264, 293, 233, 223, 210, 208, 260, 278, 206, 217, 201, 226,\n",
              "       208, 287, 290, 275, 288, 263, 242, 220, 224, 278, 272, 227, 225,\n",
              "       265, 267, 207, 201, 200, 263, 213, 258, 232, 261, 297, 214, 258,\n",
              "       254, 280, 221, 229, 219, 299, 261, 297, 207, 268, 203, 264, 279,\n",
              "       206, 213, 202, 268, 297, 215, 252, 290, 298, 230, 254, 254, 288,\n",
              "       282, 231, 223, 243, 203, 298])"
            ]
          },
          "metadata": {},
          "execution_count": 19
        }
      ]
    },
    {
      "cell_type": "code",
      "source": [
        "'''  (i) Compare the given list of visualization for the given data:\n",
        "\n",
        "\n",
        "\n",
        "    1. Frequency & Gaussian distribution\n",
        "\n",
        "    2. Frequency smoothened KDE plot\n",
        "\n",
        "    3. Gaussian distribution & smoothened KDE plot'''\n",
        "\n",
        "fp=sns.histplot(int_list2,bins=100,color='red')\n",
        "fp #frequency plot"
      ],
      "metadata": {
        "colab": {
          "base_uri": "https://localhost:8080/",
          "height": 447
        },
        "id": "C6CH5zHza2zq",
        "outputId": "2c42e4d1-e914-4c60-e87b-107486a9f22c"
      },
      "execution_count": 22,
      "outputs": [
        {
          "output_type": "execute_result",
          "data": {
            "text/plain": [
              "<Axes: ylabel='Count'>"
            ]
          },
          "metadata": {},
          "execution_count": 22
        },
        {
          "output_type": "display_data",
          "data": {
            "text/plain": [
              "<Figure size 640x480 with 1 Axes>"
            ],
            "image/png": "[encoded data removed]"
          },
          "metadata": {}
        }
      ]
    },
    {
      "cell_type": "code",
      "source": [
        "gd=sns.histplot(int_list2,bins=100,color='cyan',kde=True)\n",
        "gd #Gaussian(Normal) distribution"
      ],
      "metadata": {
        "colab": {
          "base_uri": "https://localhost:8080/",
          "height": 447
        },
        "id": "Ny0TAz-1brke",
        "outputId": "a075e075-623d-44e9-854b-b81cbd1bfd1e"
      },
      "execution_count": 23,
      "outputs": [
        {
          "output_type": "execute_result",
          "data": {
            "text/plain": [
              "<Axes: ylabel='Count'>"
            ]
          },
          "metadata": {},
          "execution_count": 23
        },
        {
          "output_type": "display_data",
          "data": {
            "text/plain": [
              "<Figure size 640x480 with 1 Axes>"
            ],
            "image/png": "[encoded data removed]"
          },
          "metadata": {}
        }
      ]
    },
    {
      "cell_type": "code",
      "source": [
        "sns.kdeplot(int_list2, color='m') #Frequency Smoothened kde plot\n",
        "plt.xlabel(\"Value\")\n",
        "plt.ylabel(\"Density\")\n",
        "plt.show()"
      ],
      "metadata": {
        "colab": {
          "base_uri": "https://localhost:8080/",
          "height": 449
        },
        "id": "1rZsxe7acBQg",
        "outputId": "0c6dd591-50c9-462e-8971-ed47acc422ef"
      },
      "execution_count": 24,
      "outputs": [
        {
          "output_type": "display_data",
          "data": {
            "text/plain": [
              "<Figure size 640x480 with 1 Axes>"
            ],
            "image/png": "[encoded data removed]"
          },
          "metadata": {}
        }
      ]
    },
    {
      "cell_type": "code",
      "source": [
        "plt.subplot(1,2,1)\n",
        "sns.kdeplot(int_list2, color='m')\n",
        "plt.subplot(1,2,2)\n",
        "sns.histplot(int_list2,bins=100,color='cyan',kde=True) #Plot comparison"
      ],
      "metadata": {
        "colab": {
          "base_uri": "https://localhost:8080/",
          "height": 447
        },
        "id": "p5E_3rMpfhaf",
        "outputId": "9fd582e8-d116-40ec-e733-ee0661fc5dec"
      },
      "execution_count": 25,
      "outputs": [
        {
          "output_type": "execute_result",
          "data": {
            "text/plain": [
              "<Axes: ylabel='Count'>"
            ]
          },
          "metadata": {},
          "execution_count": 25
        },
        {
          "output_type": "display_data",
          "data": {
            "text/plain": [
              "<Figure size 640x480 with 2 Axes>"
            ],
            "image/png": "[encoded data removed]"
          },
          "metadata": {}
        }
      ]
    },
    {
      "cell_type": "code",
      "source": [
        "plt.subplot(1,2,1)\n",
        "sns.histplot(int_list2,bins=100,color='red')\n",
        "plt.subplot(1,2,2)\n",
        "sns.histplot(int_list2,bins=100,color='cyan',kde=True) #Plot comparison"
      ],
      "metadata": {
        "colab": {
          "base_uri": "https://localhost:8080/",
          "height": 447
        },
        "id": "Ni2pfYMKgTEM",
        "outputId": "cd102e73-abb3-4c29-c574-0d65434361ad"
      },
      "execution_count": 26,
      "outputs": [
        {
          "output_type": "execute_result",
          "data": {
            "text/plain": [
              "<Axes: ylabel='Count'>"
            ]
          },
          "metadata": {},
          "execution_count": 26
        },
        {
          "output_type": "display_data",
          "data": {
            "text/plain": [
              "<Figure size 640x480 with 2 Axes>"
            ],
            "image/png": "[encoded data removed]"
          },
          "metadata": {}
        }
      ]
    },
    {
      "cell_type": "code",
      "source": [
        "'''  (ii) Write a Python function to calculate the range of a given list of numbers.'''\n",
        "\n",
        "rg=np.max(int_list2)-np.min(int_list2)\n",
        "rg"
      ],
      "metadata": {
        "colab": {
          "base_uri": "https://localhost:8080/"
        },
        "id": "lSOMNYE4hC4k",
        "outputId": "45e3b4ef-ba03-4f9e-df1f-9abb56df41fa"
      },
      "execution_count": 28,
      "outputs": [
        {
          "output_type": "execute_result",
          "data": {
            "text/plain": [
              "99"
            ]
          },
          "metadata": {},
          "execution_count": 28
        }
      ]
    },
    {
      "cell_type": "code",
      "source": [
        "''' (iii) Create a program to find the variance and standard deviation of a list of numbers.'''\n",
        "\n",
        "vr=np.var(int_list2)\n",
        "std=statistics.stdev(int_list2)\n",
        "print(vr)\n",
        "print(std)"
      ],
      "metadata": {
        "colab": {
          "base_uri": "https://localhost:8080/"
        },
        "id": "_JwP4V6-hoSn",
        "outputId": "a595e741-ba46-45b2-c319-b75a90e08c91"
      },
      "execution_count": 30,
      "outputs": [
        {
          "output_type": "stream",
          "name": "stdout",
          "text": [
            "866.4819000000001\n",
            "29.46183972531247\n"
          ]
        }
      ]
    },
    {
      "cell_type": "code",
      "source": [
        "''' (iv) Implement a function to compute the interquartile range (IQR) of a list of values.'''\n",
        "\n",
        "iqr_value=np.percentile(int_list2,75)-np.percentile(int_list2,25)\n",
        "iqr_value\n",
        "\n",
        "from scipy.stats import iqr\n",
        "iq=iqr(int_list2)\n",
        "iq"
      ],
      "metadata": {
        "colab": {
          "base_uri": "https://localhost:8080/"
        },
        "id": "v39mM6XyiVmE",
        "outputId": "faa0d943-cbd4-41ec-a673-92998a347085"
      },
      "execution_count": 32,
      "outputs": [
        {
          "output_type": "execute_result",
          "data": {
            "text/plain": [
              "50.25"
            ]
          },
          "metadata": {},
          "execution_count": 32
        }
      ]
    },
    {
      "cell_type": "code",
      "source": [
        "iqr_value"
      ],
      "metadata": {
        "colab": {
          "base_uri": "https://localhost:8080/"
        },
        "id": "zXr6heECjBUP",
        "outputId": "3c819d41-930d-4151-dad1-2b0cb3ff0a32"
      },
      "execution_count": 33,
      "outputs": [
        {
          "output_type": "execute_result",
          "data": {
            "text/plain": [
              "50.25"
            ]
          },
          "metadata": {},
          "execution_count": 33
        }
      ]
    },
    {
      "cell_type": "code",
      "source": [
        "iq"
      ],
      "metadata": {
        "colab": {
          "base_uri": "https://localhost:8080/"
        },
        "id": "ERB0_wl5jEmH",
        "outputId": "1ce7048d-c3ce-4430-a415-7268d6d8c441"
      },
      "execution_count": 34,
      "outputs": [
        {
          "output_type": "execute_result",
          "data": {
            "text/plain": [
              "50.25"
            ]
          },
          "metadata": {},
          "execution_count": 34
        }
      ]
    },
    {
      "cell_type": "code",
      "source": [
        "''' (v) Build a program to calculate the coefficient of variation for a dataset.'''\n",
        "\n",
        "cov=np.std(int_list2)/np.mean(int_list2)\n",
        "cov"
      ],
      "metadata": {
        "colab": {
          "base_uri": "https://localhost:8080/"
        },
        "id": "lScahqAcjMsn",
        "outputId": "1a4df928-d65f-47c4-b6bc-93dabac00c56"
      },
      "execution_count": 35,
      "outputs": [
        {
          "output_type": "execute_result",
          "data": {
            "text/plain": [
              "0.11897685871503386"
            ]
          },
          "metadata": {},
          "execution_count": 35
        }
      ]
    },
    {
      "cell_type": "code",
      "source": [
        "a=np.std(int_list2)\n",
        "a"
      ],
      "metadata": {
        "colab": {
          "base_uri": "https://localhost:8080/"
        },
        "id": "TEMe91vEkxFG",
        "outputId": "c3502af4-cdb9-489c-9ee3-57758d555aa6"
      },
      "execution_count": 36,
      "outputs": [
        {
          "output_type": "execute_result",
          "data": {
            "text/plain": [
              "29.436064614686526"
            ]
          },
          "metadata": {},
          "execution_count": 36
        }
      ]
    },
    {
      "cell_type": "code",
      "source": [
        "'''  (vi) Write a Python function to find the mean absolute deviation (MAD) of a list of numbers.'''\n",
        "\n",
        "mad=np.mean(np.abs(int_list2-np.mean(int_list2)))\n",
        "mad"
      ],
      "metadata": {
        "colab": {
          "base_uri": "https://localhost:8080/"
        },
        "id": "upkloPaIk1Xj",
        "outputId": "8f0fb150-5fe4-499e-ada5-551d113c33a7"
      },
      "execution_count": 40,
      "outputs": [
        {
          "output_type": "execute_result",
          "data": {
            "text/plain": [
              "25.83912"
            ]
          },
          "metadata": {},
          "execution_count": 40
        }
      ]
    },
    {
      "cell_type": "code",
      "source": [
        "import numpy as np\n",
        "\n",
        "def calculate_mad(data): #using function\n",
        "\n",
        "  mean = np.mean(data)\n",
        "  absolute_deviations = np.abs(data - mean)\n",
        "  mad = np.mean(absolute_deviations)\n",
        "  return mad\n",
        "\n",
        "\n",
        "data = [1, 2, 3, 4, 5]\n",
        "mad = calculate_mad(data)\n",
        "print(\"MAD:\", mad)\n",
        "\n"
      ],
      "metadata": {
        "colab": {
          "base_uri": "https://localhost:8080/"
        },
        "id": "IYRL8grLmyAG",
        "outputId": "f7d28ccc-148a-48ac-89c5-16413ecb9296"
      },
      "execution_count": 38,
      "outputs": [
        {
          "output_type": "stream",
          "name": "stdout",
          "text": [
            "MAD: 1.2\n"
          ]
        }
      ]
    },
    {
      "cell_type": "code",
      "source": [
        "'''  (vii) Create a program to calculate the quartile deviation of a list of values.'''\n",
        "\n",
        "qd=iqr_value/2\n",
        "qd"
      ],
      "metadata": {
        "colab": {
          "base_uri": "https://localhost:8080/"
        },
        "id": "B3vy-tofnSXs",
        "outputId": "2b9ccffe-0dbf-43df-aa14-7ec3058cc33f"
      },
      "execution_count": 42,
      "outputs": [
        {
          "output_type": "execute_result",
          "data": {
            "text/plain": [
              "25.125"
            ]
          },
          "metadata": {},
          "execution_count": 42
        }
      ]
    },
    {
      "cell_type": "code",
      "source": [
        "'''  (viii) Implement a function to find the range-based coefficient of dispersion for a dataset.'''\n",
        "\n",
        "rbc=(np.max(int_list2)-np.min(int_list2))/(np.max(int_list2)+np.min(int_list2))\n",
        "rbc"
      ],
      "metadata": {
        "colab": {
          "base_uri": "https://localhost:8080/"
        },
        "id": "b17VkjjcouaW",
        "outputId": "a5fdca01-c499-46ec-c29b-9e38aa8b1f43"
      },
      "execution_count": 43,
      "outputs": [
        {
          "output_type": "execute_result",
          "data": {
            "text/plain": [
              "0.19839679358717435"
            ]
          },
          "metadata": {},
          "execution_count": 43
        }
      ]
    },
    {
      "cell_type": "code",
      "source": [
        "# Q3 Write a Python class representing a discrete random variable with methods to calculate its expected value and variance.\n",
        "\n",
        "class DiscreteRandomVariable:\n",
        "    def __init__(self, values, probabilities):\n",
        "        self.values = values\n",
        "        self.probabilities = probabilities\n",
        "        if len(values) != len(probabilities):\n",
        "            raise ValueError(\"Values and probabilities must have the same length\")\n",
        "\n",
        "    def expected_value(self):\n",
        "        return sum(v * p for v, p in zip(self.values, self.probabilities))\n",
        "\n",
        "    def variance(self):\n",
        "        ex = self.expected_value()\n",
        "        return sum((v - ex)**2 * p for v, p in zip(self.values, self.probabilities))\n",
        "\n",
        "\n"
      ],
      "metadata": {
        "id": "cGR8umR6p8Bi"
      },
      "execution_count": 45,
      "outputs": []
    },
    {
      "cell_type": "code",
      "source": [
        "#Q4 Implement a program to simulate the rolling of a fair six-sided die and calculate the expected value and variance of the outcomes.\n",
        "\n",
        "import random\n",
        "import numpy as np\n",
        "\n",
        "def roll_die(num_trials):\n",
        "  \"\"\"Simulates rolling a fair six-sided die and returns the outcomes.\"\"\"\n",
        "  outcomes = []\n",
        "  for _ in range(num_trials):\n",
        "    outcomes.append(random.randint(1, 6))\n",
        "  return outcomes\n",
        "\n",
        "def calculate_expected_value(outcomes):\n",
        "  \"\"\"Calculates the expected value of the outcomes.\"\"\"\n",
        "  return np.mean(outcomes)\n",
        "\n",
        "def calculate_variance(outcomes):\n",
        "  \"\"\"Calculates the variance of the outcomes.\"\"\"\n",
        "  return np.var(outcomes)\n",
        "\n",
        "# Set the number of trials (e.g., 10000)\n",
        "num_trials = 10000\n",
        "\n",
        "# Simulate rolling the die\n",
        "outcomes = roll_die(num_trials)\n",
        "\n",
        "# Calculate and print the expected value and variance\n",
        "expected_value = calculate_expected_value(outcomes)\n",
        "variance = calculate_variance(outcomes)\n",
        "\n",
        "print(f\"Expected Value: {expected_value}\")\n",
        "print(f\"Variance: {variance}\")"
      ],
      "metadata": {
        "colab": {
          "base_uri": "https://localhost:8080/"
        },
        "id": "J2SqdIELsZgI",
        "outputId": "7df1cefe-7bbf-49ac-a046-ca1ddabfb10a"
      },
      "execution_count": 46,
      "outputs": [
        {
          "output_type": "stream",
          "name": "stdout",
          "text": [
            "Expected Value: 3.4691\n",
            "Variance: 2.9588451899999995\n"
          ]
        }
      ]
    },
    {
      "cell_type": "code",
      "source": [],
      "metadata": {
        "id": "2tnH4VCXs-aW"
      },
      "execution_count": null,
      "outputs": []
    }
  ]
}