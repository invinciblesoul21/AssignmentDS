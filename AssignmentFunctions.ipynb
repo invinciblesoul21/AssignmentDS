{
 "cells": [
  {
   "cell_type": "code",
   "execution_count": 1,
   "metadata": {},
   "outputs": [],
   "source": [
    "#THEORY Questions\n",
    "\n",
    "#Q1 What is the difference between a function and a method in Python?\n",
    "\n",
    "#A function is a block of code that is defined outside of a class and can be called independently. It takes arguments and returns a value (or performs an action), but it doesn't belong to any object or class.\n",
    "#A method is a function that is defined within a class and is associated with an instance (object) or the class itself. Methods are invoked on objects or the class and can access or modify the object’s state (instance variables) or class-level variables.\n",
    "\n",
    "def greet(name):\n",
    "    return f\"Hello, {name}\""
   ]
  },
  {
   "cell_type": "code",
   "execution_count": 2,
   "metadata": {},
   "outputs": [
    {
     "name": "stdout",
     "output_type": "stream",
     "text": [
      "Hello, Alice\n"
     ]
    }
   ],
   "source": [
    "class Person:\n",
    "    def greet(self, name):\n",
    "        return f\"Hello, {name}\"\n",
    "\n",
    "person = Person()\n",
    "print(person.greet(\"Alice\"))  # Method called on an instance\n"
   ]
  },
  {
   "cell_type": "code",
   "execution_count": 3,
   "metadata": {},
   "outputs": [
    {
     "name": "stdout",
     "output_type": "stream",
     "text": [
      "Hello, Charlie. You are 30 years old.\n",
      "Hello, David. You are 35 years old.\n"
     ]
    }
   ],
   "source": [
    "#Q2 Explain the concept of function arguments and parameters in Python.\n",
    "\n",
    "#Parameters are the variables in the function definition.\n",
    "#Arguments are the actual values passed to the function when called.\n",
    "#Python allows flexibility in how arguments are passed: positional, keyword, default, and variable-length (using *args and **kwargs).\n",
    "\n",
    "def greet(name, age=30):\n",
    "    print(f\"Hello, {name}. You are {age} years old.\")\n",
    "\n",
    "greet(\"Charlie\")  # Uses default age of 30\n",
    "greet(\"David\", 35)  # Overrides the default age\n",
    "\n"
   ]
  },
  {
   "cell_type": "code",
   "execution_count": 4,
   "metadata": {},
   "outputs": [],
   "source": [
    "#Q3 What are the different ways to define and call a function in Python?\n",
    "\n",
    "#Simple Function: def function_name():\n",
    "#Function with Parameters: def function_name(param1, param2):\n",
    "#Function with Return Value: def function_name(): return value\n",
    "#Keyword Arguments: def function_name(param1, param2):, called with param2=value1, param1=value2\n",
    "#Default Arguments: def function_name(param1, param2=default):\n",
    "#Variable-length Arguments: def function_name(*args, **kwargs):\n",
    "#Lambda Functions: lambda param1, param2: expression\n",
    "#Recursive Function: Function that calls itself with a base case.\n",
    "\n",
    "#Eg:\n",
    "def factorial(n):\n",
    "    if n == 0:\n",
    "        return 1\n",
    "    else:\n",
    "        return n * factorial(n - 1)\n",
    "\n",
    "\n"
   ]
  },
  {
   "cell_type": "code",
   "execution_count": 5,
   "metadata": {},
   "outputs": [],
   "source": [
    "#Q4 What is the purpose of the `return` statement in a Python function?\n",
    "\n",
    "#The `return` statement in a Python function is used to send the result of a function back to the caller, effectively ending the function's execution and passing a value to wherever the function was invoked. When the `return` statement is executed, the function exits immediately, and the specified value is returned to the calling code. If no `return` statement is used, the function returns `None` by default. The `return` statement allows functions to produce output, enabling further processing or use of the returned value outside the function. It is essential for generating results from functions that perform calculations or operations and need to communicate the outcome to other parts of the program."
   ]
  },
  {
   "cell_type": "code",
   "execution_count": 6,
   "metadata": {},
   "outputs": [
    {
     "name": "stdout",
     "output_type": "stream",
     "text": [
      "1\n",
      "2\n",
      "3\n"
     ]
    }
   ],
   "source": [
    "#Q5 What are iterators in Python and how do they differ from iterables?\n",
    "\n",
    "#an iterable is an object that can be iterated over, and an iterator is the object that actually performs the iteration, yielding elements one by one until it raises StopIteration when the end is reached.\n",
    "\n",
    "# Example of an iterable\n",
    "my_list = [1, 2, 3]\n",
    "for item in my_list:\n",
    "    print(item)\n"
   ]
  },
  {
   "cell_type": "code",
   "execution_count": 7,
   "metadata": {},
   "outputs": [
    {
     "name": "stdout",
     "output_type": "stream",
     "text": [
      "1\n",
      "2\n",
      "3\n"
     ]
    }
   ],
   "source": [
    "# Creating an iterator from a list\n",
    "my_list = [1, 2, 3]\n",
    "iterator = iter(my_list)  # Converts the list into an iterator\n",
    "\n",
    "# Using the iterator to access elements\n",
    "print(next(iterator))  # Output: 1\n",
    "print(next(iterator))  # Output: 2\n",
    "print(next(iterator))  # Output: 3\n"
   ]
  },
  {
   "cell_type": "code",
   "execution_count": 8,
   "metadata": {},
   "outputs": [
    {
     "name": "stdout",
     "output_type": "stream",
     "text": [
      "0\n",
      "1\n",
      "1\n",
      "2\n",
      "3\n",
      "5\n",
      "8\n"
     ]
    }
   ],
   "source": [
    "#Q6 Explain the concept of generators in Python and how they are defined.\n",
    "\n",
    "#generators are a powerful tool in Python for creating iterables that are computed lazily, which can save memory and improve performance in cases where large sequences need to be processed. They are defined using the yield keyword inside a function or with a generator expression.\n",
    "\n",
    "def fibonacci(limit):\n",
    "    a, b = 0, 1\n",
    "    while a < limit:\n",
    "        yield a  # Yield the current value of a\n",
    "        a, b = b, a + b  # Update a and b for the next Fibonacci number\n",
    "\n",
    "# Using the generator\n",
    "fib_gen = fibonacci(10)\n",
    "for num in fib_gen:\n",
    "    print(num)\n",
    "# Output: 0, 1, 1, 2, 3, 5, 8\n"
   ]
  },
  {
   "cell_type": "code",
   "execution_count": 9,
   "metadata": {},
   "outputs": [],
   "source": [
    "#Q7 What are the advantages of using generators over regular functions?\n",
    "\n",
    "# generators are ideal when dealing with large datasets, infinite sequences, or when memory consumption is a concern. They provide a more efficient, flexible, and readable way to work with iterative processes compared to regular functions that return complete data structures like lists.\n",
    "\n",
    "def infinite_fibonacci():\n",
    "    a, b = 0, 1\n",
    "    while True:\n",
    "        yield a\n",
    "        a, b = b, a + b\n",
    "\n",
    "\n",
    "\n",
    "\n",
    "\n"
   ]
  },
  {
   "cell_type": "code",
   "execution_count": 10,
   "metadata": {},
   "outputs": [
    {
     "name": "stdout",
     "output_type": "stream",
     "text": [
      "8\n"
     ]
    }
   ],
   "source": [
    "#Q8 What is a lambda function in Python and when is it typically used?\n",
    "\n",
    "#A lambda function in Python is a small, anonymous function defined using the lambda keyword. It allows you to create simple functions in a concise way, without the need to define a full function using the def keyword. Lambda functions are commonly used when a small, short-lived function is needed, typically in places where a regular function definition would be overkill.\n",
    "\n",
    "# A simple lambda function that adds two numbers\n",
    "add = lambda x, y: x + y\n",
    "\n",
    "# Calling the lambda function\n",
    "result = add(3, 5)\n",
    "print(result)  # Output: 8\n"
   ]
  },
  {
   "cell_type": "code",
   "execution_count": 11,
   "metadata": {},
   "outputs": [
    {
     "name": "stdout",
     "output_type": "stream",
     "text": [
      "[1, 4, 9, 16, 25]\n"
     ]
    }
   ],
   "source": [
    "#Q9 Explain the purpose and usage of the `map()` function in Python.\n",
    "\n",
    "#The map() function in Python is a built-in function that allows you to apply a specified function to each item in an iterable (like a list, tuple, or set), and returns an iterator that produces the results. It’s commonly used for transforming or modifying the elements of an iterable in a concise and efficient way.\n",
    "\n",
    "#Purpose:\n",
    "#The primary purpose of the map() function is to apply a given function to each item of an iterable (such as a list or tuple) and return a new iterable of the results. This is particularly useful when you want to apply the same operation to multiple items in a collection without needing to write an explicit loop.\n",
    "\n",
    "# A function that squares a number\n",
    "def square(x):\n",
    "    return x ** 2\n",
    "\n",
    "# Applying the function to each item in the list\n",
    "numbers = [1, 2, 3, 4, 5]\n",
    "squared_numbers = map(square, numbers)\n",
    "\n",
    "# Converting the map object to a list\n",
    "print(list(squared_numbers))  # Output: [1, 4, 9, 16, 25]\n"
   ]
  },
  {
   "cell_type": "code",
   "execution_count": 12,
   "metadata": {},
   "outputs": [],
   "source": [
    "#Q10 What is the difference between `map()`, `reduce()`, and `filter()` functions in Python?\n",
    "\n",
    "#map(): Transforms each item in an iterable.\n",
    "#reduce(): Reduces an iterable to a single value by applying a binary function cumulatively.\n",
    "#filter(): Filters elements from an iterable based on a condition.\n",
    "\n",
    "numbers = [1, 2, 3, 4]\n",
    "squared = map(lambda x: x ** 2, numbers)  # Output: [1, 4, 9, 16]\n",
    "\n"
   ]
  },
  {
   "cell_type": "code",
   "execution_count": 13,
   "metadata": {},
   "outputs": [],
   "source": [
    "from functools import reduce\n",
    "numbers = [1, 2, 3, 4]\n",
    "result = reduce(lambda x, y: x + y, numbers)  # Output: 10 (1 + 2 + 3 + 4)\n"
   ]
  },
  {
   "cell_type": "code",
   "execution_count": 14,
   "metadata": {},
   "outputs": [],
   "source": [
    "numbers = [1, 2, 3, 4, 5, 6]\n",
    "even_numbers = filter(lambda x: x % 2 == 0, numbers)  # Output: [2, 4, 6]\n"
   ]
  },
  {
   "cell_type": "code",
   "execution_count": 15,
   "metadata": {},
   "outputs": [],
   "source": [
    "#Q11 Using pen & Paper write the internal mechanism for sum operation using reduce function on this given list:[47,11,42,13];\n",
    "\n"
   ]
  },
  {
   "cell_type": "code",
   "execution_count": 16,
   "metadata": {},
   "outputs": [
    {
     "name": "stdout",
     "output_type": "stream",
     "text": [
      "20\n"
     ]
    }
   ],
   "source": [
    "#PRACTICAL Questions\n",
    "\n",
    "#Q1 Write a Python function that takes a list of numbers as input and returns the sum of all even numbers in the list.\n",
    "\n",
    "def sum_of_even_numbers(numbers):\n",
    "    # Using filter to get only even numbers and then summing them\n",
    "    even_numbers = filter(lambda x: x % 2 == 0, numbers)\n",
    "    return sum(even_numbers)\n",
    "\n",
    "# Example usage:\n",
    "numbers = [1, 2, 3, 4, 5, 6, 7, 8]\n",
    "result = sum_of_even_numbers(numbers)\n",
    "print(result)  # Output: 20 (2 + 4 + 6 + 8)\n"
   ]
  },
  {
   "cell_type": "code",
   "execution_count": 17,
   "metadata": {},
   "outputs": [
    {
     "name": "stdout",
     "output_type": "stream",
     "text": [
      "!dlroW ,olleH\n"
     ]
    }
   ],
   "source": [
    "#Q2 Create a Python function that accepts a string and returns the reverse of that string.\n",
    "\n",
    "def reverse_string(s):\n",
    "    return s[::-1]\n",
    "\n",
    "# Example usage:\n",
    "input_string = \"Hello, World!\"\n",
    "reversed_string = reverse_string(input_string)\n",
    "print(reversed_string)  # Output: \"!dlroW ,olleH\"\n"
   ]
  },
  {
   "cell_type": "code",
   "execution_count": 18,
   "metadata": {},
   "outputs": [
    {
     "name": "stdout",
     "output_type": "stream",
     "text": [
      "[1, 4, 9, 16, 25]\n"
     ]
    }
   ],
   "source": [
    "#Q3 Implement a Python function that takes a list of integers and returns a new list containing the squares of each number.\n",
    "\n",
    "def square_numbers(numbers):\n",
    "    return [x ** 2 for x in numbers]\n",
    "\n",
    "# Example usage:\n",
    "input_list = [1, 2, 3, 4, 5]\n",
    "squared_list = square_numbers(input_list)\n",
    "print(squared_list)  # Output: [1, 4, 9, 16, 25]\n",
    "\n"
   ]
  },
  {
   "cell_type": "code",
   "execution_count": 19,
   "metadata": {},
   "outputs": [
    {
     "name": "stdout",
     "output_type": "stream",
     "text": [
      "2\n",
      "3\n",
      "5\n",
      "7\n",
      "11\n",
      "13\n",
      "17\n",
      "19\n",
      "23\n",
      "29\n",
      "31\n",
      "37\n",
      "41\n",
      "43\n",
      "47\n",
      "53\n",
      "59\n",
      "61\n",
      "67\n",
      "71\n",
      "73\n",
      "79\n",
      "83\n",
      "89\n",
      "97\n",
      "101\n",
      "103\n",
      "107\n",
      "109\n",
      "113\n",
      "127\n",
      "131\n",
      "137\n",
      "139\n",
      "149\n",
      "151\n",
      "157\n",
      "163\n",
      "167\n",
      "173\n",
      "179\n",
      "181\n",
      "191\n",
      "193\n",
      "197\n",
      "199\n"
     ]
    }
   ],
   "source": [
    "#Q4 Write a Python function that checks if a given number is prime or not from 1 to 200.\n",
    "\n",
    "def is_prime(n):\n",
    "    if n <= 1:\n",
    "        return False  # 1 and numbers less than 1 are not prime\n",
    "    for i in range(2, int(n ** 0.5) + 1):  # Only check up to the square root of n\n",
    "        if n % i == 0:\n",
    "            return False  # If n is divisible by i, it's not prime\n",
    "    return True\n",
    "\n",
    "# Example usage:\n",
    "for number in range(1, 201):\n",
    "    if is_prime(number):\n",
    "        print(number)\n"
   ]
  },
  {
   "cell_type": "code",
   "execution_count": 20,
   "metadata": {},
   "outputs": [
    {
     "name": "stdout",
     "output_type": "stream",
     "text": [
      "0\n",
      "1\n",
      "1\n",
      "2\n",
      "3\n",
      "5\n",
      "8\n",
      "13\n",
      "21\n",
      "34\n"
     ]
    }
   ],
   "source": [
    "#Q5 Create an iterator class in Python that generates the Fibonacci sequence up to a specified number of terms.\n",
    "\n",
    "class FibonacciIterator:\n",
    "    def __init__(self, num_terms):\n",
    "        self.num_terms = num_terms\n",
    "        self.current = 0\n",
    "        self.next = 1\n",
    "        self.index = 0\n",
    "\n",
    "    def __iter__(self):\n",
    "        return self  # The iterator itself is the iterable\n",
    "\n",
    "    def __next__(self):\n",
    "        if self.index >= self.num_terms:\n",
    "            raise StopIteration  # Stop iteration when we reach the specified number of terms\n",
    "        fibonacci_number = self.current\n",
    "        self.current, self.next = self.next, self.current + self.next  # Update the current and next numbers in the sequence\n",
    "        self.index += 1\n",
    "        return fibonacci_number\n",
    "\n",
    "# Example usage:\n",
    "fib_sequence = FibonacciIterator(10)  # Get the first 10 Fibonacci numbers\n",
    "for number in fib_sequence:\n",
    "    print(number)\n"
   ]
  },
  {
   "cell_type": "code",
   "execution_count": 21,
   "metadata": {},
   "outputs": [
    {
     "name": "stdout",
     "output_type": "stream",
     "text": [
      "1\n",
      "2\n",
      "4\n",
      "8\n",
      "16\n",
      "32\n"
     ]
    }
   ],
   "source": [
    "#Q6 Write a generator function in Python that yields the powers of 2 up to a given exponent.\n",
    "\n",
    "def powers_of_two(exponent):\n",
    "    for i in range(exponent + 1):\n",
    "        yield 2 ** i\n",
    "\n",
    "# Example usage:\n",
    "for power in powers_of_two(5):\n",
    "    print(power)\n"
   ]
  },
  {
   "cell_type": "code",
   "execution_count": 23,
   "metadata": {},
   "outputs": [],
   "source": [
    "#Q7  Implement a generator function that reads a file line by line and yields each line as a string.\n",
    "\n",
    "#def read_file_line_by_line(file_path):\n",
    "   # with open(file_path, 'r') as file:\n",
    "        #for line in file:\n",
    "            #yield line.strip()  # Remove any trailing newlines or spaces\n",
    "\n",
    "# Example usage:\n",
    "#file_path = 'example.txt'  # Replace with the path to your file\n",
    "#for line in read_file_line_by_line(file_path):\n",
    "    #print(line)\n"
   ]
  },
  {
   "cell_type": "code",
   "execution_count": 24,
   "metadata": {},
   "outputs": [
    {
     "name": "stdout",
     "output_type": "stream",
     "text": [
      "[(2, 1), (4, 2), (1, 3), (3, 5)]\n"
     ]
    }
   ],
   "source": [
    "#Q8 Use a lambda function in Python to sort a list of tuples based on the second element of each tuple.\n",
    "\n",
    "# List of tuples\n",
    "tuples_list = [(1, 3), (2, 1), (4, 2), (3, 5)]\n",
    "\n",
    "# Sorting the list of tuples based on the second element using a lambda function\n",
    "sorted_list = sorted(tuples_list, key=lambda x: x[1])\n",
    "\n",
    "# Example usage:\n",
    "print(sorted_list)\n"
   ]
  },
  {
   "cell_type": "code",
   "execution_count": 25,
   "metadata": {},
   "outputs": [
    {
     "name": "stdout",
     "output_type": "stream",
     "text": [
      "[32.0, 68.0, 86.0, 104.0, 212.0]\n"
     ]
    }
   ],
   "source": [
    "#Q9  Write a Python program that uses `map()` to convert a list of temperatures from Celsius to Fahrenheit.\n",
    "\n",
    "# List of temperatures in Celsius\n",
    "celsius_temps = [0, 20, 30, 40, 100]\n",
    "\n",
    "# Function to convert Celsius to Fahrenheit\n",
    "def celsius_to_fahrenheit(celsius):\n",
    "    return (celsius * 9/5) + 32\n",
    "\n",
    "# Using map() to apply the conversion function to each element in the list\n",
    "fahrenheit_temps = list(map(celsius_to_fahrenheit, celsius_temps))\n",
    "\n",
    "# Example usage:\n",
    "print(fahrenheit_temps)\n"
   ]
  },
  {
   "cell_type": "code",
   "execution_count": 26,
   "metadata": {},
   "outputs": [
    {
     "name": "stdout",
     "output_type": "stream",
     "text": [
      "Hll, Wrld!\n"
     ]
    }
   ],
   "source": [
    "#Q10 Create a Python program that uses `filter()` to remove all the vowels from a given string.\n",
    "\n",
    "# Function to check if a character is a vowel\n",
    "def is_not_vowel(char):\n",
    "    return char.lower() not in 'aeiou'\n",
    "\n",
    "# Given string\n",
    "input_string = \"Hello, World!\"\n",
    "\n",
    "# Using filter() to remove vowels\n",
    "filtered_string = ''.join(filter(is_not_vowel, input_string))\n",
    "\n",
    "# Example usage:\n",
    "print(filtered_string)\n"
   ]
  },
  {
   "cell_type": "code",
   "execution_count": 27,
   "metadata": {},
   "outputs": [
    {
     "name": "stdout",
     "output_type": "stream",
     "text": [
      "[(1, 70.0), (2, 60.0), (3, 85.0), (4, 100.0)]\n"
     ]
    }
   ],
   "source": [
    "#Q11 Write a Python program, which returns a list with 2-tuples. Each tuple consists of the order number and the product of the price per item and the quantity. The product should be increased by 10,- € if the value of the order is smaller than 100,00 €.\n",
    "\n",
    "#Write a Python program using lambda and map.\n",
    "\n",
    "# List of orders: each order is a tuple of (order_number, price_per_item, quantity)\n",
    "orders = [(1, 20.0, 3), (2, 50.0, 1), (3, 5.0, 15), (4, 10.0, 9)]\n",
    "\n",
    "# Function to calculate the product and apply the €10 adjustment if needed\n",
    "def calculate_order(order):\n",
    "    order_number, price, quantity = order\n",
    "    product = price * quantity\n",
    "    if product < 100:\n",
    "        product += 10  # Add 10€ if the order value is less than 100€\n",
    "    return (order_number, product)\n",
    "\n",
    "# Using map with a lambda function to calculate the order values\n",
    "order_values = list(map(lambda order: calculate_order(order), orders))\n",
    "\n",
    "# Example usage:\n",
    "print(order_values)\n"
   ]
  },
  {
   "cell_type": "code",
   "execution_count": null,
   "metadata": {},
   "outputs": [],
   "source": []
  }
 ],
 "metadata": {
  "kernelspec": {
   "display_name": "Python 3",
   "language": "python",
   "name": "python3"
  },
  "language_info": {
   "codemirror_mode": {
    "name": "ipython",
    "version": 3
   },
   "file_extension": ".py",
   "mimetype": "text/x-python",
   "name": "python",
   "nbconvert_exporter": "python",
   "pygments_lexer": "ipython3",
   "version": "3.8.5"
  }
 },
 "nbformat": 4,
 "nbformat_minor": 4
}
