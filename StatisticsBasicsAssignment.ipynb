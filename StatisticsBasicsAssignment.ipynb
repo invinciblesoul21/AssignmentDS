{
  "nbformat": 4,
  "nbformat_minor": 0,
  "metadata": {
    "colab": {
      "provenance": []
    },
    "kernelspec": {
      "name": "python3",
      "display_name": "Python 3"
    },
    "language_info": {
      "name": "python"
    }
  },
  "cells": [
    {
      "cell_type": "code",
      "execution_count": 14,
      "metadata": {
        "colab": {
          "base_uri": "https://localhost:8080/",
          "height": 123
        },
        "id": "Am4ODBCNm5UE",
        "outputId": "62157945-c44f-42ab-d8aa-abf562334df1"
      },
      "outputs": [
        {
          "output_type": "execute_result",
          "data": {
            "text/plain": [
              "\"1. Qualitative Data:\\nQualitative data is descriptive and non-numerical. It captures characteristics, attributes, or qualities. This type of data is often collected through interviews, surveys, or observations. Examples include hair color, eye color, or types of cuisine.  \\n\\n2. Quantitative Data:\\nQuantitative data is numerical and can be measured or counted. It represents quantities or amounts and supports statistical analysis. Examples include age, height, temperature, or the number of students in a class.  \\n\\n3. Nominal Scale:\\nThe nominal scale classifies data into distinct categories without any inherent order. It is used for labeling variables. Examples include gender (male/female), blood type (A, B, AB, O), or car brands.  \\n\\n4. Ordinal Scale: \\nThe ordinal scale organizes data into ordered categories, but the intervals between categories are not equal or defined. Examples include customer satisfaction ratings (poor, fair, good, excellent) or educational levels (high school, bachelor's, master's).  \\n\\n5. Interval Scale: \\nThe interval scale measures variables with equal intervals between values, but it lacks a true zero point. Examples include temperature in Celsius or Fahrenheit and calendar years. Zero does not mean the absence of the measured quality.  \\n\\n6. Ratio Scale:\\nThe ratio scale has equal intervals and a meaningful zero point, allowing for comparison of absolute magnitudes. Examples include weight, height, age, or income. Zero indicates the complete absence of the variable being measured.\""
            ],
            "application/vnd.google.colaboratory.intrinsic+json": {
              "type": "string"
            }
          },
          "metadata": {},
          "execution_count": 14
        }
      ],
      "source": [
        "# Q1  Explain the different types of data (qualitative and quantitative) and provide examples of each. Discuss nominal, ordinal, interval, and ratio scale.\n",
        "\n",
        "'''1. Qualitative Data:\n",
        "Qualitative data is descriptive and non-numerical. It captures characteristics, attributes, or qualities. This type of data is often collected through interviews, surveys, or observations. Examples include hair color, eye color, or types of cuisine.\n",
        "\n",
        "2. Quantitative Data:\n",
        "Quantitative data is numerical and can be measured or counted. It represents quantities or amounts and supports statistical analysis. Examples include age, height, temperature, or the number of students in a class.\n",
        "\n",
        "3. Nominal Scale:\n",
        "The nominal scale classifies data into distinct categories without any inherent order. It is used for labeling variables. Examples include gender (male/female), blood type (A, B, AB, O), or car brands.\n",
        "\n",
        "4. Ordinal Scale:\n",
        "The ordinal scale organizes data into ordered categories, but the intervals between categories are not equal or defined. Examples include customer satisfaction ratings (poor, fair, good, excellent) or educational levels (high school, bachelor's, master's).\n",
        "\n",
        "5. Interval Scale:\n",
        "The interval scale measures variables with equal intervals between values, but it lacks a true zero point. Examples include temperature in Celsius or Fahrenheit and calendar years. Zero does not mean the absence of the measured quality.\n",
        "\n",
        "6. Ratio Scale:\n",
        "The ratio scale has equal intervals and a meaningful zero point, allowing for comparison of absolute magnitudes. Examples include weight, height, age, or income. Zero indicates the complete absence of the variable being measured.'''\n",
        "\n"
      ]
    },
    {
      "cell_type": "code",
      "source": [
        "#Q2  What are the measures of central tendency, and when should you use each? Discuss the mean, median, and mode with examples and situations where each is appropriate.\n",
        "\n",
        "'''The measures of central tendency are statistical values that describe the center or typical value of a data set.\n",
        "\n",
        "1. Mean:\n",
        "The mean is the average of a data set, calculated by adding all values and dividing by the number of values. It is used when data is evenly distributed without extreme outliers. For example, calculating the average score of students in a class is appropriate when no student has an unusually high or low score.\n",
        "\n",
        "2. Median:\n",
        "The median is the middle value when data points are arranged in ascending or descending order. It is useful when data contains outliers or is skewed. For instance, the median income is often used in economic studies because it is not affected by very high or very low incomes.\n",
        "\n",
        "3. Mode:\n",
        "The mode is the most frequently occurring value in a data set. It is useful for categorical data or when identifying the most common value is essential. For example, a shoe retailer may use the mode to determine the most popular shoe size among customers.'''"
      ],
      "metadata": {
        "colab": {
          "base_uri": "https://localhost:8080/",
          "height": 123
        },
        "id": "WzIPTSMcos0F",
        "outputId": "fc977aa5-e4d4-4b63-d34a-98070b22b0d1"
      },
      "execution_count": 2,
      "outputs": [
        {
          "output_type": "execute_result",
          "data": {
            "text/plain": [
              "'The measures of central tendency are statistical values that describe the center or typical value of a data set. \\n\\n1. Mean:\\nThe mean is the average of a data set, calculated by adding all values and dividing by the number of values. It is used when data is evenly distributed without extreme outliers. For example, calculating the average score of students in a class is appropriate when no student has an unusually high or low score.  \\n\\n2. Median:\\nThe median is the middle value when data points are arranged in ascending or descending order. It is useful when data contains outliers or is skewed. For instance, the median income is often used in economic studies because it is not affected by very high or very low incomes.  \\n\\n3. Mode:  \\nThe mode is the most frequently occurring value in a data set. It is useful for categorical data or when identifying the most common value is essential. For example, a shoe retailer may use the mode to determine the most popular shoe size among customers.'"
            ],
            "application/vnd.google.colaboratory.intrinsic+json": {
              "type": "string"
            }
          },
          "metadata": {},
          "execution_count": 2
        }
      ]
    },
    {
      "cell_type": "code",
      "source": [
        "#Q3 Explain the concept of dispersion. How do variance and standard deviation measure the spread of data?\n",
        "\n",
        "'''Dispersion refers to the extent to which data points in a dataset are spread out or scattered.\n",
        "      It indicates the variability or consistency of the data. **Variance** measures the average squared deviation from the mean,\n",
        "      showing how far data points typically are from the average. A higher variance indicates greater spread.\n",
        "      Standard deviation** is the square root of the variance, providing a measure of dispersion in the same units as the data. Both metrics help assess data reliability, with low values indicating data points are close to the mean,\n",
        "      while high values suggest wide variability.'''\n"
      ],
      "metadata": {
        "colab": {
          "base_uri": "https://localhost:8080/",
          "height": 88
        },
        "id": "yElsZRWIps_6",
        "outputId": "a9037286-2b90-48c2-bf60-1fd3df463cec"
      },
      "execution_count": 3,
      "outputs": [
        {
          "output_type": "execute_result",
          "data": {
            "text/plain": [
              "'Dispersion refers to the extent to which data points in a dataset are spread out or scattered. \\n      It indicates the variability or consistency of the data. **Variance** measures the average squared deviation from the mean, \\n      showing how far data points typically are from the average. A higher variance indicates greater spread. \\n      Standard deviation** is the square root of the variance, providing a measure of dispersion in the same units as the data. Both metrics help assess data reliability, with low values indicating data points are close to the mean, \\n      while high values suggest wide variability.'"
            ],
            "application/vnd.google.colaboratory.intrinsic+json": {
              "type": "string"
            }
          },
          "metadata": {},
          "execution_count": 3
        }
      ]
    },
    {
      "cell_type": "code",
      "source": [
        "#Q4 What is a box plot, and what can it tell you about the distribution of data?\n",
        "\n",
        "'''A box plot (or box-and-whisker plot) is a graphical representation of data distribution that shows the data's central tendency, spread, and variability. It displays five key summary statistics: minimum, first quartile (Q1), median (Q2), third quartile (Q3), and maximum. The box represents the interquartile range (IQR), where 50% of the data lies, while the whiskers extend to the minimum and maximum values, excluding outliers. A box plot reveals the data's symmetry, skewness, and presence of outliers, making it useful for comparing distributions across different datasets.'''\n"
      ],
      "metadata": {
        "colab": {
          "base_uri": "https://localhost:8080/",
          "height": 88
        },
        "id": "8k4cCvpcqBmK",
        "outputId": "357a05ae-bb89-4b5d-fe2c-71212b1dc95a"
      },
      "execution_count": 4,
      "outputs": [
        {
          "output_type": "execute_result",
          "data": {
            "text/plain": [
              "\"A box plot (or box-and-whisker plot) is a graphical representation of data distribution that shows the data's central tendency, spread, and variability. It displays five key summary statistics: minimum, first quartile (Q1), median (Q2), third quartile (Q3), and maximum. The box represents the interquartile range (IQR), where 50% of the data lies, while the whiskers extend to the minimum and maximum values, excluding outliers. A box plot reveals the data's symmetry, skewness, and presence of outliers, making it useful for comparing distributions across different datasets.\""
            ],
            "application/vnd.google.colaboratory.intrinsic+json": {
              "type": "string"
            }
          },
          "metadata": {},
          "execution_count": 4
        }
      ]
    },
    {
      "cell_type": "code",
      "source": [
        "#Q5 Discuss the role of random sampling in making inferences about populations.\n",
        "\n",
        "'''Random sampling involves selecting individuals from a population in such a way that every member has an equal chance of being chosen. It plays a crucial role in making inferences about populations by ensuring that the sample represents the population fairly, reducing bias and enhancing the reliability of statistical conclusions. Random sampling allows researchers to estimate population parameters, such as the mean or proportion, and apply statistical tests to generalize findings. This method supports the validity of inferences by minimizing sampling errors and enabling the use of probability theory in data analysis.'''\n",
        "\n"
      ],
      "metadata": {
        "colab": {
          "base_uri": "https://localhost:8080/",
          "height": 88
        },
        "id": "TtT3SmU8q2L_",
        "outputId": "7bdc6237-2680-463f-f139-cf8ecc696abb"
      },
      "execution_count": 6,
      "outputs": [
        {
          "output_type": "execute_result",
          "data": {
            "text/plain": [
              "'Random sampling involves selecting individuals from a population in such a way that every member has an equal chance of being chosen. It plays a crucial role in making inferences about populations by ensuring that the sample represents the population fairly, reducing bias and enhancing the reliability of statistical conclusions. Random sampling allows researchers to estimate population parameters, such as the mean or proportion, and apply statistical tests to generalize findings. This method supports the validity of inferences by minimizing sampling errors and enabling the use of probability theory in data analysis.'"
            ],
            "application/vnd.google.colaboratory.intrinsic+json": {
              "type": "string"
            }
          },
          "metadata": {},
          "execution_count": 6
        }
      ]
    },
    {
      "cell_type": "code",
      "source": [
        "#Q6  Explain the concept of skewness and its types. How does skewness affect the interpretation of data?\n",
        "\n",
        "'''Skewness measures the asymmetry of a data distribution. It indicates whether data points are concentrated more on one side of the distribution's mean. Skewness helps interpret the shape of the data and detect potential biases or outliers.\n",
        "\n",
        "There are three types of skewness: positive skew, where the tail extends to the right, indicating most data points are concentrated on the left (e.g., income distribution); negative skew, where the tail extends to the left, meaning most data points are on the right (e.g., exam scores with a few low outliers); and no skew (symmetrical), where data is evenly distributed around the mean (e.g., heights of adults). Understanding these types helps interpret data distribution and choose appropriate statistical methods.'''\n",
        "\n"
      ],
      "metadata": {
        "colab": {
          "base_uri": "https://localhost:8080/",
          "height": 105
        },
        "id": "dc12Ly9ErEZH",
        "outputId": "5b886716-4a3c-4c69-bd14-1da84f3d1cdb"
      },
      "execution_count": 7,
      "outputs": [
        {
          "output_type": "execute_result",
          "data": {
            "text/plain": [
              "\"Skewness measures the asymmetry of a data distribution. It indicates whether data points are concentrated more on one side of the distribution's mean. Skewness helps interpret the shape of the data and detect potential biases or outliers.\\n\\nThere are three types of skewness: positive skew, where the tail extends to the right, indicating most data points are concentrated on the left (e.g., income distribution); negative skew, where the tail extends to the left, meaning most data points are on the right (e.g., exam scores with a few low outliers); and no skew (symmetrical), where data is evenly distributed around the mean (e.g., heights of adults). Understanding these types helps interpret data distribution and choose appropriate statistical methods.\""
            ],
            "application/vnd.google.colaboratory.intrinsic+json": {
              "type": "string"
            }
          },
          "metadata": {},
          "execution_count": 7
        }
      ]
    },
    {
      "cell_type": "code",
      "source": [
        "#Q7 What is the interquartile range (IQR), and how is it used to detect outliers?\n",
        "\n",
        "'''The interquartile range (IQR) measures the spread of the middle 50% of a data set. It is calculated by subtracting the first quartile (Q1), the 25th percentile, from the third quartile (Q3), the 75th percentile: IQR = Q3 - Q1. The IQR is used to detect outliers by identifying data points that fall outside 1.5 times the IQR below Q1 or above Q3. Any value less than Q1 - 1.5 × IQR or greater than Q3 + 1.5 × IQR is considered an outlier. This method helps highlight unusual data points and assess variability.'''\n"
      ],
      "metadata": {
        "colab": {
          "base_uri": "https://localhost:8080/",
          "height": 70
        },
        "id": "hW5McepGre4g",
        "outputId": "584b390f-198a-42be-bc4d-88c43d01c827"
      },
      "execution_count": 8,
      "outputs": [
        {
          "output_type": "execute_result",
          "data": {
            "text/plain": [
              "'The interquartile range (IQR) measures the spread of the middle 50% of a data set. It is calculated by subtracting the first quartile (Q1), the 25th percentile, from the third quartile (Q3), the 75th percentile: IQR = Q3 - Q1. The IQR is used to detect outliers by identifying data points that fall outside 1.5 times the IQR below Q1 or above Q3. Any value less than Q1 - 1.5 × IQR or greater than Q3 + 1.5 × IQR is considered an outlier. This method helps highlight unusual data points and assess variability.'"
            ],
            "application/vnd.google.colaboratory.intrinsic+json": {
              "type": "string"
            }
          },
          "metadata": {},
          "execution_count": 8
        }
      ]
    },
    {
      "cell_type": "code",
      "source": [
        "#Q8  Discuss the conditions under which the binomial distribution is used.\n",
        "\n",
        "'''The binomial distribution is used when an experiment involves a fixed number of independent trials, each with two possible outcomes (success or failure), and the probability of success remains constant across trials. For example, flipping a coin multiple times, where the outcome is either heads (success) or tails (failure), and each flip is independent with a fixed probability of heads. This distribution is useful for modeling situations like determining the number of successes in a set number of trials, such as in quality control, survey sampling, or predicting the number of correct answers on a multiple-choice test.'''\n"
      ],
      "metadata": {
        "colab": {
          "base_uri": "https://localhost:8080/",
          "height": 88
        },
        "id": "2MR_ndqnslFi",
        "outputId": "0c051f9a-106b-4dbd-c06c-f22589688df6"
      },
      "execution_count": 9,
      "outputs": [
        {
          "output_type": "execute_result",
          "data": {
            "text/plain": [
              "'The binomial distribution is used when an experiment involves a fixed number of independent trials, each with two possible outcomes (success or failure), and the probability of success remains constant across trials. For example, flipping a coin multiple times, where the outcome is either heads (success) or tails (failure), and each flip is independent with a fixed probability of heads. This distribution is useful for modeling situations like determining the number of successes in a set number of trials, such as in quality control, survey sampling, or predicting the number of correct answers on a multiple-choice test.'"
            ],
            "application/vnd.google.colaboratory.intrinsic+json": {
              "type": "string"
            }
          },
          "metadata": {},
          "execution_count": 9
        }
      ]
    },
    {
      "cell_type": "code",
      "source": [
        "#Q9  Explain the properties of the normal distribution and the empirical rule (68-95-99.7 rule).\n",
        "\n",
        "'''The normal distribution is a symmetric, bell-shaped probability distribution characterized by its mean (average) and standard deviation, where most data points cluster around the mean. It is defined by the equation of a bell curve and is fully described by two parameters: the mean and the standard deviation. One of the key properties of the normal distribution is that about 68% of the data falls within one standard deviation of the mean, 95% falls within two standard deviations, and 99.7% falls within three standard deviations, as stated by the empirical rule (68-95-99.7 rule). This rule helps in understanding the spread of data and is particularly useful for making predictions about data in many natural and social sciences.'''\n",
        "\n"
      ],
      "metadata": {
        "colab": {
          "base_uri": "https://localhost:8080/",
          "height": 105
        },
        "id": "6HBkrgR6s2e8",
        "outputId": "8f788044-279e-4dcb-b973-78ef1f858b33"
      },
      "execution_count": 10,
      "outputs": [
        {
          "output_type": "execute_result",
          "data": {
            "text/plain": [
              "'The normal distribution is a symmetric, bell-shaped probability distribution characterized by its mean (average) and standard deviation, where most data points cluster around the mean. It is defined by the equation of a bell curve and is fully described by two parameters: the mean and the standard deviation. One of the key properties of the normal distribution is that about 68% of the data falls within one standard deviation of the mean, 95% falls within two standard deviations, and 99.7% falls within three standard deviations, as stated by the empirical rule (68-95-99.7 rule). This rule helps in understanding the spread of data and is particularly useful for making predictions about data in many natural and social sciences.'"
            ],
            "application/vnd.google.colaboratory.intrinsic+json": {
              "type": "string"
            }
          },
          "metadata": {},
          "execution_count": 10
        }
      ]
    },
    {
      "cell_type": "code",
      "source": [
        "#Q10  Provide a real-life example of a Poisson process and calculate the probability for a specific event.\n",
        "\n",
        "'''A real-life example of a Poisson process is the number of cars passing through a toll booth in an hour. If, on average, 10 cars pass through the toll booth every hour, the occurrence of cars passing is independent, and the average rate of occurrence is constant.\n",
        "P(X=k)=\n",
        "k!\n",
        "(λ\n",
        "k\n",
        " ⋅e\n",
        "−λ\n",
        " )\n",
        "\n",
        " If the average number of cars passing the toll booth is 10 per hour, and we want to calculate the probability that exactly 8 cars pass through the toll booth in one hour, we use\n",
        "𝜆\n",
        "=\n",
        "10\n",
        "λ=10 and\n",
        "𝑘\n",
        "=\n",
        "8\n",
        "k=8:\n",
        "​\n",
        "The probability of exactly 8 cars passing through the toll booth in one hour, given an average rate of 10 cars per hour, is approximately 0.113 or 11.3%.'''\n",
        "\n"
      ],
      "metadata": {
        "colab": {
          "base_uri": "https://localhost:8080/",
          "height": 88
        },
        "id": "hNvtWxnktP0R",
        "outputId": "15cbb79a-41bb-4517-a49e-63f9de9b9e23"
      },
      "execution_count": 11,
      "outputs": [
        {
          "output_type": "execute_result",
          "data": {
            "text/plain": [
              "'A real-life example of a Poisson process is the number of cars passing through a toll booth in an hour. If, on average, 10 cars pass through the toll booth every hour, the occurrence of cars passing is independent, and the average rate of occurrence is constant.\\nP(X=k)= \\nk!\\n(λ \\nk\\n ⋅e \\n−λ\\n )\\n\\n If the average number of cars passing the toll booth is 10 per hour, and we want to calculate the probability that exactly 8 cars pass through the toll booth in one hour, we use \\n𝜆\\n=\\n10\\nλ=10 and \\n𝑘\\n=\\n8\\nk=8:\\n\\u200b\\nThe probability of exactly 8 cars passing through the toll booth in one hour, given an average rate of 10 cars per hour, is approximately 0.113 or 11.3%.'"
            ],
            "application/vnd.google.colaboratory.intrinsic+json": {
              "type": "string"
            }
          },
          "metadata": {},
          "execution_count": 11
        }
      ]
    },
    {
      "cell_type": "code",
      "source": [
        "#Q11  Explain what a random variable is and differentiate between discrete and continuous random variables.\n",
        "\n",
        "'''A random variable is a numerical outcome of a random process or experiment, which can take different values depending on chance. There are two types of random variables: discrete and continuous. A discrete random variable takes on a countable number of distinct values, often representing counts or integers, such as the number of heads in 10 coin flips or the number of students in a class. A continuous random variable, on the other hand, can take on an infinite number of values within a given range, typically representing measurements, like the height of individuals or the time taken to complete a task. The key difference is that discrete variables are countable, while continuous variables are measurable and can take any value within a specified range.'''\n"
      ],
      "metadata": {
        "colab": {
          "base_uri": "https://localhost:8080/",
          "height": 105
        },
        "id": "Zvbu2FkNtpqq",
        "outputId": "a877ef12-a258-44b6-cf54-c821c4f15480"
      },
      "execution_count": 12,
      "outputs": [
        {
          "output_type": "execute_result",
          "data": {
            "text/plain": [
              "'A random variable is a numerical outcome of a random process or experiment, which can take different values depending on chance. There are two types of random variables: discrete and continuous. A discrete random variable takes on a countable number of distinct values, often representing counts or integers, such as the number of heads in 10 coin flips or the number of students in a class. A continuous random variable, on the other hand, can take on an infinite number of values within a given range, typically representing measurements, like the height of individuals or the time taken to complete a task. The key difference is that discrete variables are countable, while continuous variables are measurable and can take any value within a specified range.'"
            ],
            "application/vnd.google.colaboratory.intrinsic+json": {
              "type": "string"
            }
          },
          "metadata": {},
          "execution_count": 12
        }
      ]
    },
    {
      "cell_type": "code",
      "source": [
        "#Q12 Provide an example dataset, calculate both covariance and correlation, and interpret the results.\n",
        "\n",
        "'''n the given dataset, where X represents hours studied and Y represents exam scores, the covariance between the two variables is 10.0, indicating a positive relationship: as the number of hours studied increases, exam scores tend to increase as well. The correlation is approximately 1.0, which signifies a perfect positive linear relationship between the variables. This means there is a very strong and direct relationship between the hours spent studying and the scores achieved on the exam, implying that as one variable increases, the other increases in a perfectly predictable way.'''\n"
      ],
      "metadata": {
        "colab": {
          "base_uri": "https://localhost:8080/",
          "height": 88
        },
        "id": "C7EGOykDt2Dp",
        "outputId": "3edaa9f3-a036-4470-98ff-d66d74e7001b"
      },
      "execution_count": 13,
      "outputs": [
        {
          "output_type": "execute_result",
          "data": {
            "text/plain": [
              "'n the given dataset, where X represents hours studied and Y represents exam scores, the covariance between the two variables is 10.0, indicating a positive relationship: as the number of hours studied increases, exam scores tend to increase as well. The correlation is approximately 1.0, which signifies a perfect positive linear relationship between the variables. This means there is a very strong and direct relationship between the hours spent studying and the scores achieved on the exam, implying that as one variable increases, the other increases in a perfectly predictable way.'"
            ],
            "application/vnd.google.colaboratory.intrinsic+json": {
              "type": "string"
            }
          },
          "metadata": {},
          "execution_count": 13
        }
      ]
    }
  ]
}