{
 "cells": [
  {
   "cell_type": "code",
   "execution_count": 1,
   "id": "e84e6be4-be13-4539-b813-9b029c3e46ff",
   "metadata": {},
   "outputs": [],
   "source": [
    "#Q1 Explain the key features of Python that make it a popular choice for programming.\n",
    "\n",
    "#1.It is compatible with various programming paradigms, such as procedural, object-oriented, and functional programming. \n",
    "#2.Python has a large and active community of developers, an extensive standard library, and third-party packages for various domains. \n",
    "#3.Python is used in a wide range of fields, including web development, data science, artificial intelligence, automation, scripting, and even game development. Its ability to handle both small-scale scripts and large-scale applications makes it a highly versatile tool.\n",
    "#4.Python is cross-platform, meaning it works on various operating systems, including Windows, macOS, and Linux.\n",
    "#5.Due to its ease of use and dynamic nature, Python is a great language for rapid prototyping. Developers can quickly build proof-of-concept applications and iterate based on feedback.\n"
   ]
  },
  {
   "cell_type": "code",
   "execution_count": 3,
   "id": "3d8f4de2-921c-4a44-8919-4c696b821034",
   "metadata": {},
   "outputs": [],
   "source": [
    "#Q2 Describe the role of predefined keywords in Python and provide examples of how they are used in a program.\n",
    "\n",
    "#Keywords are reserved words in Python that have special meanings and cannot be used as identifiers (variable names, function names, etc.). \n",
    "#Examples of keywords include if, else, while, for, def, class, import, try, except, return, True, False, None, etc.\n",
    "#Keywords are case-sensitive and cannot be redefined or overridden within a Python program.\n",
    "\n",
    "# Lets see the use of if and else keyword as they are used in conditional statements\n",
    "#a=12\n",
    "#if(a>10):\n",
    "    #print(\"Hello\")\n",
    "#else:\n",
    "    #print(\"Welcome\")\n",
    "\n",
    "#for keyword can be used for iteration\n",
    "\n",
    "#for i in range(1,10,1):\n",
    "    #print(i*2)"
   ]
  },
  {
   "cell_type": "code",
   "execution_count": 5,
   "id": "78da48a1-9cfd-46ec-8f9b-bfa4a8a691b0",
   "metadata": {},
   "outputs": [],
   "source": [
    "#Q3 Compare and contrast mutable and immutable ob\f",
    "ects in Python with examples.\n",
    "\n",
    "#In Python, objects can be either changeable (modifiable) or unchangeable (unchangeable). \n",
    "#Mutable objects, such as lists and dictionaries, can be modified after creation, while immutable objects, such as tuples and strings, cannot. \n",
    "#Mutability affects how objects are stored and manipulated in memory, impacting performance, memory usage, and concurrency in Python programs. \n",
    "\n",
    "#Mutable examples are List, Sets, Dictionary.\n",
    "#Immutable examples are Tuples, Strings.\n"
   ]
  },
  {
   "cell_type": "code",
   "execution_count": 7,
   "id": "5d49497f-069b-4bcd-8784-de491303bed3",
   "metadata": {},
   "outputs": [],
   "source": [
    "#Q4 Discuss the different types of operators in Python and provide examples of how they are used.\n",
    "\n",
    "#Operators are special symbols or keywords that are used to carry out specific actions on numbers or variables in Python expressions. \n",
    "#Python supports various types of operators, including arithmetic operators (+, -, *, /), comparison operators (==, !=, <, >), logical operators (and, or, not), assignment operators (=, +=, -=, *=, /=), etc.\n",
    "#Operators have precedence and associativity rules that determine the order of evaluation in expressions.\n",
    "\n",
    "#a=10\n",
    "#b=14\n",
    "\n",
    "#arithmetic operator\n",
    "#a+b=14\n",
    "#a-b=-4\n",
    "#a*b=140\n",
    "#a/b=0.71\n",
    "\n",
    "#comparison operator\n",
    "#a=b false\n",
    "#a==b false\n",
    "#a>b false\n",
    "#a<b true\n"
   ]
  },
  {
   "cell_type": "code",
   "execution_count": 9,
   "id": "1ba39f6d-2c3c-4003-a159-3ae11b014d74",
   "metadata": {},
   "outputs": [],
   "source": [
    "#Q5 Explain the concept of type casting in Python with examples.\n",
    "\n",
    "#Type casting, also referred to as type conversion, is the process of changing one data type to another in Python. \n",
    "#Python provides built-in functions for type casting, such as int(), float(), str(), list(), tuple(), dict(), etc.\n",
    "#Type casting is often necessary for performing arithmetic operations, data manipulation, and input/output operations in Python programs.\n",
    "\n",
    "#Let we have a=24\n",
    "#Then to convert a to other datatype we use typecasting\n",
    "\n",
    "#b=str(a)\n",
    "#c=float(a)\n",
    "#d=list(a)\n",
    "#e=tuple(a)"
   ]
  },
  {
   "cell_type": "code",
   "execution_count": 11,
   "id": "67d8c652-0697-4b15-8a5c-aae9d4b1a3db",
   "metadata": {},
   "outputs": [],
   "source": [
    "#Q6 How do conditional statements work in Python? Illustrate with examples.\n",
    "\n",
    "# We can use conditional statements when we have to take decisons based on choices provide. If only two choice is there we use if-else statement and if more than two choices are there we use elif statement.\n",
    "\n",
    "#a=29\n",
    "#if(a>10):\n",
    "    #print(\"Hello\")\n",
    "#elif(a>20):\n",
    "    #print(\"Welcome\")\n",
    "#elif(a>25):\n",
    "    #print(\"Hey\")\n",
    "#else:\n",
    "    #print(\"Greet\")"
   ]
  },
  {
   "cell_type": "code",
   "execution_count": 13,
   "id": "feac97ef-815a-45d9-bdb8-186b29655317",
   "metadata": {},
   "outputs": [],
   "source": [
    "#Q7 Describe the different types of loops in Python and their use cases with examples.\n",
    "\n",
    "#In Python, loops are employed to repeat a sequence of actions or code until a specific condition is fulfilled. \n",
    "#Python offers two primary types of loops: for loops and while loops. \n",
    "#“for” loops are used for iterating over a sequence of elements, while “while” loops are used for executing code until a specified condition becomes False\n",
    "\n",
    "# for i in range(1,20,2):\n",
    "      #print(i*10)\n",
    "\n",
    "#a=19\n",
    "#while(a<50):\n",
    "    #print(a**2)\n",
    "    #a=a+1"
   ]
  },
  {
   "cell_type": "code",
   "execution_count": null,
   "id": "c92683ad-883a-48c3-98d8-0686826049e7",
   "metadata": {},
   "outputs": [],
   "source": []
  }
 ],
 "metadata": {
  "kernelspec": {
   "display_name": "Python 3 (ipykernel)",
   "language": "python",
   "name": "python3"
  },
  "language_info": {
   "codemirror_mode": {
    "name": "ipython",
    "version": 3
   },
   "file_extension": ".py",
   "mimetype": "text/x-python",
   "name": "python",
   "nbconvert_exporter": "python",
   "pygments_lexer": "ipython3",
   "version": "3.11.7"
  }
 },
 "nbformat": 4,
 "nbformat_minor": 5
}
