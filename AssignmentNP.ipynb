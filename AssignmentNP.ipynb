{
 "cells": [
  {
   "cell_type": "code",
   "execution_count": 1,
   "metadata": {},
   "outputs": [],
   "source": [
    "import numpy as np"
   ]
  },
  {
   "cell_type": "code",
   "execution_count": 2,
   "metadata": {},
   "outputs": [],
   "source": [
    "#THEORETICAL QUESTIONS \n",
    "# Q1 Explain the purpose and advantages of NumPy in scientific computing and data analysis. How does it enhance Python's capabilities for numerical operations?\n",
    "\n",
    "\n",
    "#NumPy, short for \"Numerical Python,\" is a fundamental package in Python that greatly enhances its capabilities for scientific computing and data analysis. Its purpose is to provide an efficient way to work with arrays and matrices, as well as a vast library of mathematical functions to operate on these data structures.\n",
    "#It enhance it by:\n",
    "#Efficient array computations and speed and performance.\n",
    "#Mathematical and statistical functions and data cleaning and transformation.\n",
    "#Community and ecosystem."
   ]
  },
  {
   "cell_type": "code",
   "execution_count": 3,
   "metadata": {},
   "outputs": [],
   "source": [
    "# Q2 Compare and contrast np.mean() and np.average() functions in NumPy. When would you use one over the other?\n",
    "\n",
    "\n",
    "#In NumPy, both `np.mean()` and `np.average()` calculate the average of an array, but they differ in functionality and flexibility. `np.mean()` calculates the arithmetic mean of an array along a specified axis, giving equal weight to each element, and is simpler to use when all values contribute equally. In contrast, `np.average()` allows for optional weighting of elements, where a `weights` parameter can assign different importance to each value, making it useful when some data points should have more influence in the average. If you need a straightforward mean, `np.mean()` is ideal, but if the context requires weighted data (e.g., in surveys or experiments with varying significance of data points), `np.average()` provides the needed flexibility."
   ]
  },
  {
   "cell_type": "code",
   "execution_count": 4,
   "metadata": {},
   "outputs": [],
   "source": [
    "#Q3 Describe the methods for reversing a NumPy array along different axes. Provide examples for 1D and 2D arrays.\n",
    "\n",
    "# To reverse a NumPy array along different axes, slicing with negative steps (`[::-1]`) is a common method. For a 1D array, reversing can be done simply with `arr[::-1]`, which inverts the order of elements. For 2D arrays, reversing along rows is achieved with `arr[::-1, :]`, flipping the order of rows, while reversing along columns is done with `arr[:, ::-1]`, flipping the order of columns. To reverse both dimensions, use `arr[::-1, ::-1]`, which will invert both rows and columns. For example, if `arr = np.array([1, 2, 3])`, `arr[::-1]` results in `[3, 2, 1]`. For a 2D array `arr = np.array([[1, 2], [3, 4]])`, `arr[::-1, :]` gives `[[3, 4], [1, 2]]` and `arr[:, ::-1]` results in `[[2, 1], [4, 3]]`."
   ]
  },
  {
   "cell_type": "code",
   "execution_count": 5,
   "metadata": {},
   "outputs": [],
   "source": [
    "# Q4 How can you determine the data type of elements in a NumPy array? Discuss the importance of data types in memory management and performance.\n",
    "\n",
    "\n",
    "# To determine the data type of elements in a NumPy array, you can use the `dtype` attribute, accessed with `array.dtype`. This reveals the specific data type (e.g., `int32`, `float64`) of the array’s elements. Understanding data types in NumPy is crucial for memory management and performance because each data type occupies a specific amount of memory. For instance, an `int32` type uses 4 bytes per element, while `float64` uses 8 bytes, meaning that larger data types increase memory consumption. By selecting an appropriate data type based on data precision needs, you can minimize memory usage, which is especially important for large datasets. Additionally, using simpler data types like `int32` or `float32` over `float64` can speed up computations, as operations on smaller data types are generally faster. Effective data type selection allows NumPy to handle large data efficiently, contributing to optimized performance in scientific and data-intensive applications."
   ]
  },
  {
   "cell_type": "code",
   "execution_count": 6,
   "metadata": {},
   "outputs": [],
   "source": [
    "# Q5 Define ndarrays in NumPy and explain their key features. How do they differ from standard Python lists?\n",
    "\n",
    "# In NumPy, `ndarray` (n-dimensional array) is a powerful data structure used for storing and manipulating homogeneous, multi-dimensional data. Unlike standard Python lists, which can contain mixed data types and are limited in performance, `ndarrays` store elements of the same data type in a contiguous block of memory, allowing for faster access and efficient mathematical operations. Key features of `ndarrays` include support for multi-dimensional arrays (1D, 2D, and beyond), efficient broadcasting capabilities (where smaller arrays are expanded to match larger arrays for element-wise operations), and an extensive library of mathematical functions optimized for these arrays. Additionally, `ndarrays` offer slicing, indexing, and reshaping capabilities that enable complex data manipulations with concise code. This design allows `ndarrays` to be highly performant for numerical computations compared to Python lists, which are not optimized for such operations and lack advanced array-handling features like broadcasting."
   ]
  },
  {
   "cell_type": "code",
   "execution_count": 7,
   "metadata": {},
   "outputs": [],
   "source": [
    "# Q6  Analyze the performance benefits of NumPy arrays over Python lists for large-scale numerical operations.\n",
    "\n",
    "\n",
    "# NumPy arrays offer significant performance benefits over Python lists for large-scale numerical operations due to their memory efficiency and computational optimizations. Unlike Python lists, which store elements as individual Python objects with additional overhead, NumPy arrays store data in a compact, contiguous memory block, allowing for faster access and less memory usage. This structure enables efficient element-wise operations without the need for looping through each element, as NumPy leverages low-level C and Fortran libraries that are optimized for vectorized operations. As a result, mathematical operations on NumPy arrays can be performed much faster than on Python lists, especially when handling large datasets. Additionally, NumPy arrays support broadcasting, which allows operations to be applied across different array shapes without extra copying, further reducing the computational load. These advantages make NumPy arrays ideal for tasks in data analysis, machine learning, and scientific computing, where performance and memory efficiency are critical."
   ]
  },
  {
   "cell_type": "code",
   "execution_count": 8,
   "metadata": {},
   "outputs": [
    {
     "data": {
      "text/plain": [
       "array([1, 2, 3, 4])"
      ]
     },
     "execution_count": 8,
     "metadata": {},
     "output_type": "execute_result"
    }
   ],
   "source": [
    "# Q7 Compare vstack() and hstack() functions in NumPy. Provide examples demonstrating their usage and output.\n",
    "\n",
    "# In NumPy, vstack() and hstack() are used to stack arrays vertically and horizontally, respectively. vstack() (vertical stack) combines arrays along rows (axis 0), stacking them one on top of the other, while hstack() (horizontal stack) combines arrays along columns (axis 1), joining them side-by-side.\n",
    "\n",
    "a = np.array([1, 2])\n",
    "b = np.array([3, 4])\n",
    "np.vstack((a, b))\n",
    "\n",
    "\n",
    "a = np.array([1, 2])\n",
    "b = np.array([3, 4])\n",
    "np.hstack((a, b))\n"
   ]
  },
  {
   "cell_type": "code",
   "execution_count": 9,
   "metadata": {},
   "outputs": [
    {
     "data": {
      "text/plain": [
       "array([[1, 2],\n",
       "       [3, 4]])"
      ]
     },
     "execution_count": 9,
     "metadata": {},
     "output_type": "execute_result"
    }
   ],
   "source": [
    "a = np.array([1, 2])\n",
    "b = np.array([3, 4])\n",
    "np.vstack((a, b))\n"
   ]
  },
  {
   "cell_type": "code",
   "execution_count": 10,
   "metadata": {},
   "outputs": [
    {
     "data": {
      "text/plain": [
       "array([[2, 1],\n",
       "       [4, 3]])"
      ]
     },
     "execution_count": 10,
     "metadata": {},
     "output_type": "execute_result"
    }
   ],
   "source": [
    "# Q8  Explain the differences between fliplr() and flipud() methods in NumPy, including their effects on various array dimensions.\n",
    "\n",
    "# fliplr() (flip left-right) reverses the order of columns in a 2D array or higher along the horizontal axis (axis 1). It is commonly used for 2D arrays to create a mirror image along the vertical axis.\n",
    "# flipud() (flip up-down) reverses the order of rows in a 2D array or higher along the vertical axis (axis 0), creating a mirror image along the horizontal axis.\n",
    "\n",
    "arr = np.array([[1, 2], [3, 4]])\n",
    "np.fliplr(arr)"
   ]
  },
  {
   "cell_type": "code",
   "execution_count": 11,
   "metadata": {},
   "outputs": [
    {
     "data": {
      "text/plain": [
       "array([[3, 4],\n",
       "       [1, 2]])"
      ]
     },
     "execution_count": 11,
     "metadata": {},
     "output_type": "execute_result"
    }
   ],
   "source": [
    "arr = np.array([[1, 2], [3, 4]])\n",
    "np.flipud(arr)"
   ]
  },
  {
   "cell_type": "code",
   "execution_count": 12,
   "metadata": {},
   "outputs": [
    {
     "data": {
      "text/plain": [
       "[array([1, 2]), array([3, 4]), array([5])]"
      ]
     },
     "execution_count": 12,
     "metadata": {},
     "output_type": "execute_result"
    }
   ],
   "source": [
    "# Q9 Discuss the functionality of the array_split() method in NumPy. How does it handle uneven splits?\n",
    "\n",
    "\n",
    "# The array_split() method in NumPy splits an array into specified sub-arrays along a given axis. Unlike split(), which requires equal-sized splits, array_split() can handle uneven splits by dividing the array as evenly as possible. If the array cannot be divided equally, some of the resulting sub-arrays will have one more element than others.\n",
    "arr = np.array([1, 2, 3, 4, 5])\n",
    "np.array_split(arr, 3)"
   ]
  },
  {
   "cell_type": "code",
   "execution_count": 13,
   "metadata": {},
   "outputs": [],
   "source": [
    "# Q10 Explain the concepts of vectorization and broadcasting in NumPy. How do they contribute to efficient array operations?\n",
    "\n",
    "#Vectorization is the process of applying operations directly on entire arrays rather than on individual elements, making use of low-level optimizations and avoiding Python loops. For example, adding two arrays element-wise (a + b) is vectorized, allowing the operation to be executed much faster than looping through each element. This reduces computational overhead and improves speed, especially for large arrays.\n",
    "#Broadcasting allows NumPy to perform operations on arrays of different shapes by \"stretching\" the smaller array to match the shape of the larger array, without creating extra copies. For instance, if you add a 1D array to a 2D array, NumPy broadcasts the 1D array across the 2D array’s rows or columns. Broadcasting makes array operations more flexible and avoids the need for reshaping or looping over dimensions manually."
   ]
  },
  {
   "cell_type": "code",
   "execution_count": 14,
   "metadata": {},
   "outputs": [],
   "source": [
    "# PRACTICAL QUESTIONS \n"
   ]
  },
  {
   "cell_type": "code",
   "execution_count": 15,
   "metadata": {},
   "outputs": [],
   "source": [
    "import random"
   ]
  },
  {
   "cell_type": "code",
   "execution_count": 16,
   "metadata": {},
   "outputs": [
    {
     "data": {
      "text/plain": [
       "array([[97, 61, 15],\n",
       "       [93,  6,  4],\n",
       "       [40, 50, 96]])"
      ]
     },
     "execution_count": 16,
     "metadata": {},
     "output_type": "execute_result"
    }
   ],
   "source": [
    "# Q1 Create a 3x3 NumPy array with random integers between 1 and 100. Then, interchange its rows and columns.\n",
    "\n",
    "arr=np.random.randint(1,100,size=(3,3))\n",
    "arr"
   ]
  },
  {
   "cell_type": "code",
   "execution_count": 17,
   "metadata": {},
   "outputs": [
    {
     "data": {
      "text/plain": [
       "array([[97, 93, 40],\n",
       "       [61,  6, 50],\n",
       "       [15,  4, 96]])"
      ]
     },
     "execution_count": 17,
     "metadata": {},
     "output_type": "execute_result"
    }
   ],
   "source": [
    "arr.T"
   ]
  },
  {
   "cell_type": "code",
   "execution_count": 18,
   "metadata": {},
   "outputs": [
    {
     "data": {
      "text/plain": [
       "array([ 2,  6, 44, 98, 23, 16, 38, 45, 68, 53])"
      ]
     },
     "execution_count": 18,
     "metadata": {},
     "output_type": "execute_result"
    }
   ],
   "source": [
    "# Q2 Generate a 1D NumPy array with 10 elements. Reshape it into a 2x5 array, then into a 5x2 array.\n",
    "\n",
    "arr2=np.array([2,6,44,98,23,16,38,45,68,53])\n",
    "arr2"
   ]
  },
  {
   "cell_type": "code",
   "execution_count": 19,
   "metadata": {},
   "outputs": [
    {
     "data": {
      "text/plain": [
       "array([[ 2,  6, 44, 98, 23],\n",
       "       [16, 38, 45, 68, 53]])"
      ]
     },
     "execution_count": 19,
     "metadata": {},
     "output_type": "execute_result"
    }
   ],
   "source": [
    "arr2.reshape(2,5)"
   ]
  },
  {
   "cell_type": "code",
   "execution_count": 20,
   "metadata": {},
   "outputs": [
    {
     "data": {
      "text/plain": [
       "array([[ 2,  6],\n",
       "       [44, 98],\n",
       "       [23, 16],\n",
       "       [38, 45],\n",
       "       [68, 53]])"
      ]
     },
     "execution_count": 20,
     "metadata": {},
     "output_type": "execute_result"
    }
   ],
   "source": [
    "arr2.reshape(5,2)"
   ]
  },
  {
   "cell_type": "code",
   "execution_count": 21,
   "metadata": {},
   "outputs": [],
   "source": [
    "# Q3 Create a 4x4 NumPy array with random float values. Add a border of zeros around it, resulting in a 6x6 array.\n",
    "\n",
    "arr3= np.random.rand(4, 4)\n",
    "arr4= np.pad(original_array, pad_width=1, mode='constant', constant_values=0)"
   ]
  },
  {
   "cell_type": "code",
   "execution_count": 24,
   "metadata": {},
   "outputs": [],
   "source": [
    "arr3= np.random.rand(4, 4)"
   ]
  },
  {
   "cell_type": "code",
   "execution_count": 25,
   "metadata": {},
   "outputs": [
    {
     "data": {
      "text/plain": [
       "array([[0.58862135, 0.27557969, 0.67197926, 0.71420839],\n",
       "       [0.98914454, 0.33360444, 0.95721595, 0.21827523],\n",
       "       [0.79467023, 0.96653974, 0.77962391, 0.62581315],\n",
       "       [0.44045361, 0.23690809, 0.20276984, 0.99640048]])"
      ]
     },
     "execution_count": 25,
     "metadata": {},
     "output_type": "execute_result"
    }
   ],
   "source": [
    "arr3"
   ]
  },
  {
   "cell_type": "code",
   "execution_count": 26,
   "metadata": {},
   "outputs": [],
   "source": [
    "arr4= np.pad(original_array, pad_width=1, mode='constant', constant_values=0)"
   ]
  },
  {
   "cell_type": "code",
   "execution_count": 27,
   "metadata": {},
   "outputs": [
    {
     "data": {
      "text/plain": [
       "array([[0.        , 0.        , 0.        , 0.        , 0.        ,\n",
       "        0.        ],\n",
       "       [0.        , 0.12835873, 0.55048199, 0.08644895, 0.64485321,\n",
       "        0.        ],\n",
       "       [0.        , 0.28682045, 0.92156317, 0.62447478, 0.83617241,\n",
       "        0.        ],\n",
       "       [0.        , 0.11413968, 0.42670187, 0.93627205, 0.77705477,\n",
       "        0.        ],\n",
       "       [0.        , 0.08757671, 0.09852203, 0.67758435, 0.34323202,\n",
       "        0.        ],\n",
       "       [0.        , 0.        , 0.        , 0.        , 0.        ,\n",
       "        0.        ]])"
      ]
     },
     "execution_count": 27,
     "metadata": {},
     "output_type": "execute_result"
    }
   ],
   "source": [
    "arr4"
   ]
  },
  {
   "cell_type": "code",
   "execution_count": 28,
   "metadata": {},
   "outputs": [
    {
     "data": {
      "text/plain": [
       "array([10, 15, 20, 25, 30, 35, 40, 45, 50, 55])"
      ]
     },
     "execution_count": 28,
     "metadata": {},
     "output_type": "execute_result"
    }
   ],
   "source": [
    "# Q4 Using NumPy, create an array of integers from 10 to 60 with a step of 5.\n",
    "\n",
    "arr=np.arange(10,60,5)\n",
    "arr"
   ]
  },
  {
   "cell_type": "code",
   "execution_count": 29,
   "metadata": {},
   "outputs": [
    {
     "data": {
      "text/plain": [
       "array(['python', 'numpy', 'pandas'], dtype='<U6')"
      ]
     },
     "execution_count": 29,
     "metadata": {},
     "output_type": "execute_result"
    }
   ],
   "source": [
    "# Q5 Create a NumPy array of strings ['python', 'numpy', 'pandas']. Apply different case transformations (uppercase, lowercase, title case, etc.) to each element.\n",
    "\n",
    "\n",
    "arr=np.array(['python','numpy','pandas'])\n",
    "arr"
   ]
  },
  {
   "cell_type": "code",
   "execution_count": 32,
   "metadata": {},
   "outputs": [
    {
     "data": {
      "text/plain": [
       "array(['PYTHON', 'NUMPY', 'PANDAS'], dtype='<U6')"
      ]
     },
     "execution_count": 32,
     "metadata": {},
     "output_type": "execute_result"
    }
   ],
   "source": [
    "ar1=np.char.upper(arr)\n",
    "ar1"
   ]
  },
  {
   "cell_type": "code",
   "execution_count": 33,
   "metadata": {},
   "outputs": [
    {
     "data": {
      "text/plain": [
       "array(['python', 'numpy', 'pandas'], dtype='<U6')"
      ]
     },
     "execution_count": 33,
     "metadata": {},
     "output_type": "execute_result"
    }
   ],
   "source": [
    "ar2=np.char.lower(arr)\n",
    "ar2"
   ]
  },
  {
   "cell_type": "code",
   "execution_count": 34,
   "metadata": {},
   "outputs": [
    {
     "data": {
      "text/plain": [
       "array(['Python', 'Numpy', 'Pandas'], dtype='<U6')"
      ]
     },
     "execution_count": 34,
     "metadata": {},
     "output_type": "execute_result"
    }
   ],
   "source": [
    "ar3=np.char.capitalize(arr)\n",
    "ar3"
   ]
  },
  {
   "cell_type": "code",
   "execution_count": 35,
   "metadata": {},
   "outputs": [
    {
     "data": {
      "text/plain": [
       "array(['Python', 'Numpy', 'Pandas'], dtype='<U6')"
      ]
     },
     "execution_count": 35,
     "metadata": {},
     "output_type": "execute_result"
    }
   ],
   "source": [
    "ar4=np.char.title(arr)\n",
    "ar4"
   ]
  },
  {
   "cell_type": "code",
   "execution_count": 36,
   "metadata": {},
   "outputs": [
    {
     "name": "stdout",
     "output_type": "stream",
     "text": [
      "['h e l l o' 'w o r l d' 'n u m p y' 'a r r a y']\n"
     ]
    }
   ],
   "source": [
    "# Q6 Generate a NumPy array of words. Insert a space between each character of every word in the array.\n",
    "\n",
    "\n",
    "words_array = np.array(['hello', 'world', 'numpy', 'array'])\n",
    "\n",
    "spaced_words_array = np.char.join(' ', words_array)\n",
    "\n",
    "print(spaced_words_array)\n"
   ]
  },
  {
   "cell_type": "code",
   "execution_count": 37,
   "metadata": {},
   "outputs": [],
   "source": [
    "# Q7 Create two 2D NumPy arrays and perform element-wise addition, subtraction, multiplication, and division.\n",
    "\n",
    "\n",
    "arr1=np.array([[1,2],[3,4],[5,6]])\n",
    "arr2=np.array([[7,8],[9,10],[11,12]])\n"
   ]
  },
  {
   "cell_type": "code",
   "execution_count": 38,
   "metadata": {},
   "outputs": [
    {
     "data": {
      "text/plain": [
       "array([[1, 2],\n",
       "       [3, 4],\n",
       "       [5, 6]])"
      ]
     },
     "execution_count": 38,
     "metadata": {},
     "output_type": "execute_result"
    }
   ],
   "source": [
    "arr1"
   ]
  },
  {
   "cell_type": "code",
   "execution_count": 39,
   "metadata": {},
   "outputs": [
    {
     "data": {
      "text/plain": [
       "array([[ 7,  8],\n",
       "       [ 9, 10],\n",
       "       [11, 12]])"
      ]
     },
     "execution_count": 39,
     "metadata": {},
     "output_type": "execute_result"
    }
   ],
   "source": [
    "arr2"
   ]
  },
  {
   "cell_type": "code",
   "execution_count": 40,
   "metadata": {},
   "outputs": [
    {
     "data": {
      "text/plain": [
       "array([[ 8, 10],\n",
       "       [12, 14],\n",
       "       [16, 18]])"
      ]
     },
     "execution_count": 40,
     "metadata": {},
     "output_type": "execute_result"
    }
   ],
   "source": [
    "arr1+arr2"
   ]
  },
  {
   "cell_type": "code",
   "execution_count": 41,
   "metadata": {},
   "outputs": [
    {
     "data": {
      "text/plain": [
       "array([[-6, -6],\n",
       "       [-6, -6],\n",
       "       [-6, -6]])"
      ]
     },
     "execution_count": 41,
     "metadata": {},
     "output_type": "execute_result"
    }
   ],
   "source": [
    "arr1-arr2"
   ]
  },
  {
   "cell_type": "code",
   "execution_count": 42,
   "metadata": {},
   "outputs": [
    {
     "data": {
      "text/plain": [
       "array([[ 7, 16],\n",
       "       [27, 40],\n",
       "       [55, 72]])"
      ]
     },
     "execution_count": 42,
     "metadata": {},
     "output_type": "execute_result"
    }
   ],
   "source": [
    "arr1*arr2"
   ]
  },
  {
   "cell_type": "code",
   "execution_count": 43,
   "metadata": {},
   "outputs": [
    {
     "data": {
      "text/plain": [
       "array([[0.14285714, 0.25      ],\n",
       "       [0.33333333, 0.4       ],\n",
       "       [0.45454545, 0.5       ]])"
      ]
     },
     "execution_count": 43,
     "metadata": {},
     "output_type": "execute_result"
    }
   ],
   "source": [
    "arr1/arr2"
   ]
  },
  {
   "cell_type": "code",
   "execution_count": 44,
   "metadata": {},
   "outputs": [
    {
     "data": {
      "text/plain": [
       "array([[1., 0., 0., 0., 0.],\n",
       "       [0., 1., 0., 0., 0.],\n",
       "       [0., 0., 1., 0., 0.],\n",
       "       [0., 0., 0., 1., 0.],\n",
       "       [0., 0., 0., 0., 1.]])"
      ]
     },
     "execution_count": 44,
     "metadata": {},
     "output_type": "execute_result"
    }
   ],
   "source": [
    "# Q8 Use NumPy to create a 5x5 identity matrix, then extract its diagonal elements.\n",
    "\n",
    "arr1=np.eye(5)\n",
    "arr1"
   ]
  },
  {
   "cell_type": "code",
   "execution_count": 45,
   "metadata": {},
   "outputs": [
    {
     "data": {
      "text/plain": [
       "array([1., 1., 1., 1., 1.])"
      ]
     },
     "execution_count": 45,
     "metadata": {},
     "output_type": "execute_result"
    }
   ],
   "source": [
    "np.diag(arr1) #Extraction of diagonal elements"
   ]
  },
  {
   "cell_type": "code",
   "execution_count": 49,
   "metadata": {},
   "outputs": [
    {
     "name": "stdout",
     "output_type": "stream",
     "text": [
      "Random Integers:\n",
      "[ 65 106 758 568 460 791 607 462 445 627 330 556 293 156 751 802 856 548\n",
      " 465 343 213 438 400 436 995 993 547 175  24 496 815 482 842 605 458 318\n",
      " 858 689 254 857 197 602 185 825 840 512 527  89 760 780 634  33 564 852\n",
      " 959 250 503 608 854 586 731 101 523 482 337 329 605 580 294 635 721 610\n",
      " 810 630  59 678 947 708  13  19 720 564 992 391 314 347 548 959  46 770\n",
      " 895 180 488  44 918 554 717 731 831 485]\n",
      "\n",
      "Prime Numbers:\n",
      "[607 293 751 547 857 197  89 503 101 523 337  59 947  13  19 347]\n"
     ]
    }
   ],
   "source": [
    "# Q9 Q9 Generate a NumPy array of 100 random integers between 0 and 1000. Find and display all prime numbers in this array.\n",
    "random_integers = np.random.randint(0, 1001, size=100)\n",
    "\n",
    "def is_prime(num):\n",
    "    if num < 2:\n",
    "        return False\n",
    "    for i in range(2, int(num**0.5) + 1):\n",
    "        if num % i == 0:\n",
    "            return False\n",
    "    return True\n",
    "\n",
    "prime_numbers = np.array([num for num in random_integers if is_prime(num)])\n",
    "\n",
    "\n",
    "print(\"Random Integers:\")\n",
    "print(random_integers)\n",
    "\n",
    "print(\"\\nPrime Numbers:\")\n",
    "print(prime_numbers)\n"
   ]
  },
  {
   "cell_type": "code",
   "execution_count": 50,
   "metadata": {},
   "outputs": [
    {
     "data": {
      "text/plain": [
       "array([[21, 36, 28, 22, 24, 37, 40],\n",
       "       [18, 30, 27, 27, 42, 37, 39],\n",
       "       [37, 37, 31, 29, 28, 34, 24],\n",
       "       [44, 21, 16, 18, 35, 22, 25]])"
      ]
     },
     "execution_count": 50,
     "metadata": {},
     "output_type": "execute_result"
    }
   ],
   "source": [
    "# Q10 Create a NumPy array representing daily temperatures for a month. Calculate and display the weekly averages.\n",
    "\n",
    "arr=np.random.randint(15,45,size=(4,7))\n",
    "arr"
   ]
  },
  {
   "cell_type": "code",
   "execution_count": 52,
   "metadata": {},
   "outputs": [
    {
     "data": {
      "text/plain": [
       "array([30.  , 31.  , 25.5 , 24.  , 32.25, 32.5 , 32.  ])"
      ]
     },
     "execution_count": 52,
     "metadata": {},
     "output_type": "execute_result"
    }
   ],
   "source": [
    "arr1=np.mean(arr, axis=0)\n",
    "arr1"
   ]
  },
  {
   "cell_type": "code",
   "execution_count": null,
   "metadata": {},
   "outputs": [],
   "source": []
  }
 ],
 "metadata": {
  "kernelspec": {
   "display_name": "Python 3",
   "language": "python",
   "name": "python3"
  },
  "language_info": {
   "codemirror_mode": {
    "name": "ipython",
    "version": 3
   },
   "file_extension": ".py",
   "mimetype": "text/x-python",
   "name": "python",
   "nbconvert_exporter": "python",
   "pygments_lexer": "ipython3",
   "version": "3.8.5"
  }
 },
 "nbformat": 4,
 "nbformat_minor": 4
}
