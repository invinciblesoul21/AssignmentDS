{
 "cells": [
  {
   "cell_type": "code",
   "execution_count": 1,
   "id": "5c6d153b-473b-48a5-839a-b94792cb80da",
   "metadata": {},
   "outputs": [
    {
     "name": "stdout",
     "output_type": "stream",
     "text": [
      "sign\n"
     ]
    }
   ],
   "source": [
    "#Q1 Discuss string slicing and provde examples.\n",
    "\n",
    "#String slicing is about obtaining a sub-string from the given string by slicing it respectively from start to end. \n",
    "\n",
    "a=\"Assignment\"\n",
    "print(a[2:6])\n"
   ]
  },
  {
   "cell_type": "code",
   "execution_count": 3,
   "id": "38f1bdc0-5d6b-4432-96f5-d0f285e409bd",
   "metadata": {},
   "outputs": [
    {
     "name": "stdout",
     "output_type": "stream",
     "text": [
      "ignm\n"
     ]
    }
   ],
   "source": [
    "print(a[3:7])"
   ]
  },
  {
   "cell_type": "code",
   "execution_count": 5,
   "id": "f6546f6f-a2ee-4693-8805-e1ae57d4aad5",
   "metadata": {},
   "outputs": [],
   "source": [
    "#Q2 Explain the key features of lists in Python.\n",
    "\n",
    "#Ordered, mutable collections of elements. Think of shopping lists or task lists. Lists can hold items of various data types (numbers, strings, even other lists!).\n",
    "#Operations: You can add, remove, or modify elements within a list using indexing and slicing. Lists are versatile for storing and managing collections that might change.\n",
    "\n"
   ]
  },
  {
   "cell_type": "code",
   "execution_count": 7,
   "id": "39ac5340-e799-4e13-b6a8-f7af501d9f95",
   "metadata": {},
   "outputs": [
    {
     "name": "stdout",
     "output_type": "stream",
     "text": [
      "Name\n"
     ]
    }
   ],
   "source": [
    "#Q3 Describe how to access,modify and delete elements in a list with examples.\n",
    "\n",
    "#For accessing the elements in list we can do it by index values of list. For eg:\n",
    "\n",
    "l=[1,45,'Jupyter','Name',39.8]\n",
    "print(l[3])"
   ]
  },
  {
   "cell_type": "code",
   "execution_count": 9,
   "id": "64cd6de1-e9b0-4266-a71f-de7375efffda",
   "metadata": {},
   "outputs": [
    {
     "name": "stdout",
     "output_type": "stream",
     "text": [
      "Name\n"
     ]
    }
   ],
   "source": [
    "print(l[-2])"
   ]
  },
  {
   "cell_type": "code",
   "execution_count": 11,
   "id": "273344e7-c4b1-488d-9587-b4ddf8522cdd",
   "metadata": {},
   "outputs": [
    {
     "data": {
      "text/plain": [
       "[1, 45, 'Jupyter', 'Name', 39.8, 88]"
      ]
     },
     "execution_count": 11,
     "metadata": {},
     "output_type": "execute_result"
    }
   ],
   "source": [
    "# For modifying and deleting we can use append function or pop function respectively.\n",
    "\n",
    "l.append(88)\n",
    "l"
   ]
  },
  {
   "cell_type": "code",
   "execution_count": 13,
   "id": "2c80ce99-befb-4e7a-bfed-5809f1e4de67",
   "metadata": {},
   "outputs": [
    {
     "data": {
      "text/plain": [
       "[1, 45, 'Name', 39.8, 88]"
      ]
     },
     "execution_count": 13,
     "metadata": {},
     "output_type": "execute_result"
    }
   ],
   "source": [
    "l.pop(2)\n",
    "l"
   ]
  },
  {
   "cell_type": "code",
   "execution_count": 15,
   "id": "1f9f57bf-3dd1-4915-a15c-bbb9636a4282",
   "metadata": {},
   "outputs": [],
   "source": [
    "#Q4  Compare and contrast tuples and lists with examples.\n",
    "\n",
    "#Lists are mutable\tTuples are immutable\n",
    "#The implication of iterations is Time-consuming\tThe implication of iterations is comparatively Faster\n",
    "#The list is better for performing operations, such as insertion and deletion.\tA Tuple data type is appropriate for accessing the elements\n",
    "#Lists consume more memory\tTuple consumes less memory as compared to the list\n",
    "\n",
    "#Lists have several built-in methods\tTuple does not have many built-in methods.\n",
    "#Unexpected changes and errors are more likely to occur\tBecause tuples don’t change they are far less error-prone.\n"
   ]
  },
  {
   "cell_type": "code",
   "execution_count": 17,
   "id": "9a83e6ad-e251-4f3f-aa85-ca847923130e",
   "metadata": {},
   "outputs": [],
   "source": [
    "#Q5  Describe the key features of sets and provide examples of their uses.\n",
    "\n",
    "#Unordered collections of unique elements. The order doesn't matter, and duplicate entries are not allowed. Sets are useful for checking membership (if an item exists) or finding the intersection/difference between sets.\n",
    "#Operations: You can add or remove elements from a set, but you cannot access elements by index (since order doesn't matter). Set operations like union (combining elements), intersection (finding common elements), and difference (finding elements in one set but not the other) are efficient."
   ]
  },
  {
   "cell_type": "code",
   "execution_count": 19,
   "id": "9712c1f1-10fe-4ebc-a72f-144a721f5198",
   "metadata": {},
   "outputs": [],
   "source": [
    "#Q6 Describes the use cases of tuples and sets in Python programming.\n",
    "\n",
    "# Tuples and sets serve distinct but complementary roles in Python programming, each with unique properties and use cases that cater to different needs. Tuples are immutable, meaning once they are created, their elements cannot be altered. This characteristic makes them particularly useful for storing fixed collections of items, such as coordinates or configuration settings, where data integrity is crucial. Additionally, because tuples are hashable, they can be used as keys in dictionaries or as elements in sets, making them versatile for various applications. They also support convenient packing and unpacking of multiple values, which is beneficial when returning multiple outputs from functions. Performance-wise, tuples can be more memory efficient than lists, especially for large datasets, due to their fixed size.\n",
    "\n",
    "#On the other hand, sets are mutable and designed to store unique elements, automatically enforcing uniqueness and preventing duplicates. This property is invaluable in scenarios where distinct values are needed, such as managing user IDs, tags, or any collection where redundancy is not desirable. Sets facilitate a range of mathematical operations, including union, intersection, and difference, making them powerful tools for comparing collections and finding commonalities. Their efficiency in membership testing (quickly checking if an item exists in the collection) makes them preferable over lists for larger datasets. Moreover, sets allow for dynamic modifications, enabling the addition and removal of elements as needed, which is essential in situations where the data is subject to change. In summary, the choice between tuples and sets hinges on the requirements of immutability and order (favoring tuples) versus uniqueness and mutability (favoring sets), making each data structure suitable for specific programming tasks."
   ]
  },
  {
   "cell_type": "code",
   "execution_count": 21,
   "id": "56ba778f-e3de-4aa9-9617-936e169f9772",
   "metadata": {},
   "outputs": [
    {
     "data": {
      "text/plain": [
       "{'Rajasthan': 'Jaipur',\n",
       " 'Bihar': 'Patna',\n",
       " 'Jharkhand': 'Ranchi',\n",
       " 'MP': 'Bhopal',\n",
       " 'Karnataka': 'Bengaluru'}"
      ]
     },
     "execution_count": 21,
     "metadata": {},
     "output_type": "execute_result"
    }
   ],
   "source": [
    "#Q7 Describe how to add modify and delete items in a dictionary with examples.\n",
    "\n",
    "#Lets consider a dictionary\n",
    "\n",
    "dict={'Rajasthan':'Jaipur','Bihar':'Patna','Jharkhand':'Ranchi','MP':'Bhopal'}\n",
    "\n",
    "#adding\n",
    "\n",
    "dict['Karnataka']='Bengaluru'\n",
    "dict\n"
   ]
  },
  {
   "cell_type": "code",
   "execution_count": 23,
   "id": "7bee8467-ee97-48cc-95a9-d15b99d9d2dc",
   "metadata": {},
   "outputs": [
    {
     "data": {
      "text/plain": [
       "{'Rajasthan': 'Jaipur',\n",
       " 'Bihar': 'Patna',\n",
       " 'Jharkhand': 'Ranchi',\n",
       " 'MP': 'Indore',\n",
       " 'Karnataka': 'Bengaluru'}"
      ]
     },
     "execution_count": 23,
     "metadata": {},
     "output_type": "execute_result"
    }
   ],
   "source": [
    "#modifying\n",
    "\n",
    "dict['MP']='Indore'\n",
    "dict"
   ]
  },
  {
   "cell_type": "code",
   "execution_count": 27,
   "id": "2053f151-e234-4b62-a07a-6bfb88171ead",
   "metadata": {},
   "outputs": [
    {
     "data": {
      "text/plain": [
       "{'Bihar': 'Patna',\n",
       " 'Jharkhand': 'Ranchi',\n",
       " 'MP': 'Indore',\n",
       " 'Karnataka': 'Bengaluru'}"
      ]
     },
     "execution_count": 27,
     "metadata": {},
     "output_type": "execute_result"
    }
   ],
   "source": [
    "#deleting \n",
    "\n",
    "del dict['Rajasthan']\n",
    "dict"
   ]
  },
  {
   "cell_type": "code",
   "execution_count": 29,
   "id": "e8253e2a-4f02-40f1-a1b7-c21293cb47a2",
   "metadata": {},
   "outputs": [],
   "source": [
    "#Q8 Discuss the importance of dictionary keys being immutable and provide examples.\n",
    "\n",
    "#importance of being immutable are hashing, data integrity and consistency in data access.\n",
    "#examples are;\n",
    "\n",
    "#strings, tuples and frozenset\n",
    "\n",
    "#The requirement for dictionary keys to be immutable is fundamental to the efficient functioning of dictionaries in Python. It ensures that keys can be hashed consistently, maintains the integrity of the key-value relationships, and guarantees that data access remains reliable and predictable. Using immutable types like strings, tuples, and frozensets as keys allows developers to build robust and efficient data structures that leverage the strengths of dictionaries effectively.\n",
    "\n",
    "\n",
    "\n"
   ]
  },
  {
   "cell_type": "code",
   "execution_count": null,
   "id": "7a69399c-0cf1-4954-9d72-2012aa24e839",
   "metadata": {},
   "outputs": [],
   "source": []
  }
 ],
 "metadata": {
  "kernelspec": {
   "display_name": "Python 3 (ipykernel)",
   "language": "python",
   "name": "python3"
  },
  "language_info": {
   "codemirror_mode": {
    "name": "ipython",
    "version": 3
   },
   "file_extension": ".py",
   "mimetype": "text/x-python",
   "name": "python",
   "nbconvert_exporter": "python",
   "pygments_lexer": "ipython3",
   "version": "3.11.7"
  }
 },
 "nbformat": 4,
 "nbformat_minor": 5
}
